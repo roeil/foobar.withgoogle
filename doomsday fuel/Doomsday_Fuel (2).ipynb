{
 "cells": [
  {
   "cell_type": "markdown",
   "metadata": {
    "id": "C-TVPws6Y_Rq"
   },
   "source": [
    "Making fuel for the LAMBCHOP's reactor core is a tricky process because of the exotic matter involved. It starts as raw ore, then during processing, begins randomly changing between forms, eventually reaching a stable form. There may be multiple stable forms that a sample could ultimately reach, not all of which are useful as fuel. \n",
    "\n",
    "Commander Lambda has tasked you to help the scientists increase fuel creation efficiency by predicting the end state of a given ore sample. You have carefully studied the different structures that the ore can take and which transitions it undergoes. It appears that, while random, the probability of each structure transforming is fixed. That is, each time the ore is in 1 state, it has the same probabilities of entering the next state (which might be the same state).  You have recorded the observed transitions in a matrix. The others in the lab have hypothesized more exotic forms that the ore can become, but you haven't seen all of them.\n",
    "\n",
    "Write a function solution(m) that takes an array of array of nonnegative ints representing how many times that state has gone to the next state and return an array of ints for each terminal state giving the exact probabilities of each terminal state, represented as the numerator for each state, then the denominator for all of them at the end and in simplest form. The matrix is at most 10 by 10. It is guaranteed that no matter which state the ore is in, there is a path from that state to a terminal state. That is, the processing will always eventually end in a stable state. The ore starts in state 0. The denominator will fit within a signed 32-bit integer during the calculation, as long as the fraction is simplified regularly. \n",
    "\n",
    "\n",
    "\n",
    "For example, consider the matrix m:\n",
    "\n",
    "[\n",
    "  \n",
    "`  [0,1,0,0,0,1] `,  # s0, the initial state, goes to s1 and s5 with equal probability\n",
    "\n",
    " ` [4,0,0,3,2,0] `,  # s1 can become s0, s3, or s4, but with different \n",
    "  probabilities\n",
    "  \n",
    " ` [0,0,0,0,0,0]`,  # s2 is terminal, and unreachable (never observed in practice)\n",
    "\n",
    " ` [0,0,0,0,0,0]`,  # s3 is terminal\n",
    "\n",
    " ` [0,0,0,0,0,0]`,  # s4 is terminal\n",
    "\n",
    " ` [0,0,0,0,0,0]`,  # s5 is terminal\n",
    "\n",
    "]\n",
    "\n",
    "\n",
    "So, we can consider different paths to terminal states, such as:\n",
    "\n",
    "\n",
    "s0 -> s1 -> s3\n",
    "\n",
    "s0 -> s1 -> s0 -> s1 -> s0 -> s1 -> s4\n",
    "\n",
    "s0 -> s1 -> s0 -> s5\n",
    "\n",
    "Tracing the probabilities of each, we find that\n",
    "\n",
    "s2 has probability 0\n",
    "\n",
    "s3 has probability 3/14\n",
    "\n",
    "s4 has probability 1/7\n",
    "\n",
    "s5 has probability 9/14\n",
    "\n",
    "So, putting that together, and making a common denominator, gives an answer in the form of\n",
    "[s2.numerator, s3.numerator, s4.numerator, s5.numerator, denominator] which is\n",
    "\n",
    "` [0, 3, 2, 9, 14]. `\n",
    "\n",
    "Languages\n",
    "=========\n",
    "\n",
    "To provide a Java solution, edit Solution.java\n",
    "To provide a Python solution, edit solution.py\n",
    "\n",
    "Test cases\n",
    "==========\n",
    "Your code should pass the following test cases.\n",
    "Note that it may also be run against hidden test cases not shown here.\n",
    "\n",
    "---\n",
    "\n",
    "-- Java cases --\n",
    "\n",
    "---\n",
    "- Input:\n",
    "\n",
    "` Solution.solution(  {{0, 2, 1, 0, 0}, {0, 0, 0, 3, 4}, {0, 0, 0, 0, 0}, {0, 0, 0, 0,0}, {0, 0, 0, 0, 0}}          ) `\n",
    "\n",
    "\n",
    "\n",
    "- Output:\n",
    "`    [7, 6, 8, 21] `\n",
    "\n",
    "\n",
    "- Input: \n",
    "` Solution.solution({{0, 1, 0, 0, 0, 1}, {4, 0, 0, 3, 2, 0}, {0, 0, 0, 0, 0, 0}, {0, 0, 0, 0, 0, 0}, {0, 0, 0, 0, 0, 0}, {0, 0, 0, 0, 0, 0}}) `\n",
    "\n",
    "- Output:\n",
    "` [0, 3, 2, 9, 14] `\n",
    "\n",
    "---\n",
    "\n",
    "-- Python cases --\n",
    "\n",
    "---\n",
    "\n",
    "- Input:\n",
    "` solution.solution([[0, 2, 1, 0, 0], [0, 0, 0, 3, 4], [0, 0, 0, 0, 0], [0, 0, 0, 0,0], [0, 0, 0, 0, 0]]) `\n",
    "\n",
    "- Output: \n",
    "`    [7, 6, 8, 21] `\n",
    "\n",
    "- Input:\n",
    "`\n",
    "solution.solution([[0, 1, 0, 0, 0, 1], [4, 0, 0, 3, 2, 0], [0, 0, 0, 0, 0, 0], [0, 0, 0, 0, 0, 0], [0, 0, 0, 0, 0, 0], [0, 0, 0, 0, 0, 0]]) `\n",
    "\n",
    "- Output:\n",
    "  `  [0, 3, 2, 9, 14] `\n"
   ]
  },
  {
   "cell_type": "code",
   "execution_count": null,
   "metadata": {
    "id": "ZMdRb2CnoGmp"
   },
   "outputs": [],
   "source": [
    "import numpy as np\n",
    "from fractions import Fraction"
   ]
  },
  {
   "cell_type": "code",
   "execution_count": null,
   "metadata": {
    "colab": {
     "base_uri": "https://localhost:8080/"
    },
    "id": "aPXbqk4SIF-N",
    "outputId": "ef81d4cc-7325-4b56-81d8-6939354026e3"
   },
   "outputs": [
    {
     "data": {
      "text/plain": [
       "0.16049382716049382"
      ]
     },
     "execution_count": 2,
     "metadata": {
      "tags": []
     },
     "output_type": "execute_result"
    }
   ],
   "source": [
    "\n",
    "cnt=0\n",
    "n=1e5\n",
    "for i in range(int(n)):\n",
    "  if np.random.choice([0,3, 4],1, p=[4/9, 3/9, 2/9])[0]==0:\n",
    "    cnt+=1\n",
    "cnt/int(n)\n",
    "\n",
    "\n",
    "\n",
    "4/9*0.5*2/9+0.5*2/9\n",
    "\n",
    "\n",
    "# #Fraction(0.4*0.5*2/9+0.5*0.2).limit_denominator()\n",
    "\n",
    "# #1/7\n",
    "\n"
   ]
  },
  {
   "cell_type": "code",
   "execution_count": null,
   "metadata": {
    "colab": {
     "base_uri": "https://localhost:8080/"
    },
    "id": "dnbntehIORwY",
    "outputId": "d4a5db45-13eb-4b18-892f-597ae4ff34d2"
   },
   "outputs": [
    {
     "data": {
      "text/plain": [
       "0.16049382716049382"
      ]
     },
     "execution_count": 3,
     "metadata": {
      "tags": []
     },
     "output_type": "execute_result"
    }
   ],
   "source": [
    "4/9*0.5*2/9+0.5*2/9\n",
    "#1.5*(4/9*2/9)"
   ]
  },
  {
   "cell_type": "code",
   "execution_count": null,
   "metadata": {
    "colab": {
     "base_uri": "https://localhost:8080/",
     "height": 129
    },
    "id": "iiAXoQkuY_-h",
    "outputId": "b6175c23-fa17-4d5c-e52e-34816024499d"
   },
   "outputs": [
    {
     "ename": "SyntaxError",
     "evalue": "ignored",
     "output_type": "error",
     "traceback": [
      "\u001b[0;36m  File \u001b[0;32m\"<ipython-input-4-7bdbc4583ce3>\"\u001b[0;36m, line \u001b[0;32m6\u001b[0m\n\u001b[0;31m    [ [, , , ],\u001b[0m\n\u001b[0m       ^\u001b[0m\n\u001b[0;31mSyntaxError\u001b[0m\u001b[0;31m:\u001b[0m invalid syntax\n"
     ]
    }
   ],
   "source": [
    "def solution(m):\n",
    "    # Your code here\n",
    "    # In: array of arrays (>=0 ints): how many times the state has changed\n",
    "    # to the next\n",
    "    # Out: \n",
    "    [ [, , , ], \n",
    "      [, , , ],\n",
    "      [, , , ],\n",
    "      [, , , ],\n",
    "      [, , , ]\n",
    "          \n",
    "\n",
    "    ]\n",
    "    "
   ]
  },
  {
   "cell_type": "code",
   "execution_count": null,
   "metadata": {
    "colab": {
     "base_uri": "https://localhost:8080/"
    },
    "id": "svwBaRhbdJlf",
    "outputId": "b3a1ee36-dc59-4998-b441-2c6a730c4a14"
   },
   "outputs": [
    {
     "name": "stdout",
     "output_type": "stream",
     "text": [
      "[0, 2, 1, 0, 0] \tTerminal: False\n",
      "[0, 0, 0, 3, 4] \tTerminal: False\n",
      "[0, 0, 0, 0, 0] \tTerminal: True\n",
      "[0, 0, 0, 0, 0] \tTerminal: True\n",
      "[0, 0, 0, 0, 0] \tTerminal: True\n"
     ]
    }
   ],
   "source": [
    "arrays=[[0, 2, 1, 0, 0], [0, 0, 0, 3, 4], [0, 0, 0, 0, 0], [0, 0, 0, 0,0], [0, 0, 0, 0, 0]]\n",
    "for array in arrays:\n",
    "  ter=False\n",
    "  if sum(array)==0:\n",
    "    ter=True\n",
    "  print(array, '\\tTerminal:', ter)"
   ]
  },
  {
   "cell_type": "markdown",
   "metadata": {
    "id": "sIn4FR5AxKDW"
   },
   "source": [
    "[\n",
    "  \n",
    "`  [0,1,0,0,0,1] `,  # s0, the initial state, goes to s1 and s5 with equal probability\n",
    "\n",
    " ` [4,0,0,3,2,0] `,  # s1 can become s0, s3, or s4, but with different \n",
    "  probabilities\n",
    "  \n",
    " ` [0,0,0,0,0,0]`,  # s2 is terminal, and unreachable (never observed in practice)\n",
    "\n",
    " ` [0,0,0,0,0,0]`,  # s3 is terminal\n",
    "\n",
    " ` [0,0,0,0,0,0]`,  # s4 is terminal\n",
    "\n",
    " ` [0,0,0,0,0,0]`,  # s5 is terminal\n",
    "\n",
    "]\n",
    "\n",
    "s2 has probability 0\n",
    "\n",
    "s3 has probability 3/14\n",
    "\n",
    "s4 has probability 1/7\n",
    "\n",
    "s5 has probability 9/14"
   ]
  },
  {
   "cell_type": "code",
   "execution_count": null,
   "metadata": {
    "colab": {
     "base_uri": "https://localhost:8080/",
     "height": 129
    },
    "id": "zAUvemPcXCzi",
    "outputId": "69366e86-dfd7-4e5a-ffe7-7a7e17c92659"
   },
   "outputs": [
    {
     "ename": "SyntaxError",
     "evalue": "ignored",
     "output_type": "error",
     "traceback": [
      "\u001b[0;36m  File \u001b[0;32m\"<ipython-input-6-1a502d39ab5c>\"\u001b[0;36m, line \u001b[0;32m7\u001b[0m\n\u001b[0;31m    z=b+\\# b: 1, a: 0\u001b[0m\n\u001b[0m                     ^\u001b[0m\n\u001b[0;31mSyntaxError\u001b[0m\u001b[0;31m:\u001b[0m unexpected character after line continuation character\n"
     ]
    }
   ],
   "source": [
    "# S5 PROBABILITY\n",
    "\n",
    "# [s0 -> s1 -> s0] -> s5\n",
    "\n",
    "a=4/9\n",
    "b=0.5\n",
    "z=b+\\# b: 1, a: 0\n",
    "b*a*b+\\# b: 2, a:1\n",
    "b*a*b*a*b+\\# b:3, a:2\n",
    "b*a*b*a*b*a*b+\\# b:4, a:3\n",
    "b*a*b*a*b*a*b*a*b+\\# b:5, a:4\n",
    "b*a*b*a*b*a*b*a*b*a*b+\\# b:6, a:5\n",
    "b*a*b*a*b*a*b*a*b*a*b*a*b+\\\n",
    "b*a*b*a*b*a*b*a*b*a*b*a*b*a*b+\\\n",
    "b*a*b*a*b*a*b*a*b*a*b*a*b*a*b*a*b+\\\n",
    "b*a*b*a*b*a*b*a*b*a*b*a*b*a*b*a*b*a*b+\\\n",
    "b*a*b*a*b*a*b*a*b*a*b*a*b*a*b*a*b*a*b*a*b+\\\n",
    "b*a*b*a*b*a*b*a*b*a*b*a*b*a*b*a*b*a*b*a*b*a*b\n",
    "\n",
    "(z).as_integer_ratio()\n",
    "\n",
    "#Fraction(z).limit_denominator()\n"
   ]
  },
  {
   "cell_type": "code",
   "execution_count": null,
   "metadata": {
    "id": "HSb1tPb2yCwG"
   },
   "outputs": [],
   "source": [
    "b*a*b*a*b*a*b*a*b*a*b*a*b*a*b*a*b*a*b*a*b*a*b"
   ]
  },
  {
   "cell_type": "code",
   "execution_count": null,
   "metadata": {
    "colab": {
     "base_uri": "https://localhost:8080/",
     "height": 231
    },
    "id": "Hti_inBDZNSk",
    "outputId": "4e107272-a06a-439e-c717-ec8a635c70d8"
   },
   "outputs": [
    {
     "ename": "NameError",
     "evalue": "ignored",
     "output_type": "error",
     "traceback": [
      "\u001b[0;31m---------------------------------------------------------------------------\u001b[0m",
      "\u001b[0;31mNameError\u001b[0m                                 Traceback (most recent call last)",
      "\u001b[0;32m<ipython-input-7-5635c5d5a2e7>\u001b[0m in \u001b[0;36m<module>\u001b[0;34m()\u001b[0m\n\u001b[1;32m      2\u001b[0m \u001b[0;31m#(np.round(z,8)).as_integer_ratio()\u001b[0m\u001b[0;34m\u001b[0m\u001b[0;34m\u001b[0m\u001b[0;34m\u001b[0m\u001b[0m\n\u001b[1;32m      3\u001b[0m \u001b[0;34m\u001b[0m\u001b[0m\n\u001b[0;32m----> 4\u001b[0;31m \u001b[0mFraction\u001b[0m\u001b[0;34m(\u001b[0m\u001b[0;34m*\u001b[0m\u001b[0mz\u001b[0m\u001b[0;34m.\u001b[0m\u001b[0mas_integer_ratio\u001b[0m\u001b[0;34m(\u001b[0m\u001b[0;34m)\u001b[0m\u001b[0;34m)\u001b[0m\u001b[0;34m.\u001b[0m\u001b[0mlimit_denominator\u001b[0m\u001b[0;34m(\u001b[0m\u001b[0;34m)\u001b[0m\u001b[0;34m\u001b[0m\u001b[0;34m\u001b[0m\u001b[0m\n\u001b[0m\u001b[1;32m      5\u001b[0m \u001b[0;34m\u001b[0m\u001b[0m\n\u001b[1;32m      6\u001b[0m \u001b[0;31m# S5 PROBABILITY\u001b[0m\u001b[0;34m\u001b[0m\u001b[0;34m\u001b[0m\u001b[0;34m\u001b[0m\u001b[0m\n",
      "\u001b[0;31mNameError\u001b[0m: name 'z' is not defined"
     ]
    }
   ],
   "source": [
    "\n",
    "#(np.round(z,8)).as_integer_ratio()\n",
    "\n",
    "Fraction(*z.as_integer_ratio()).limit_denominator()\n",
    "\n",
    "# S5 PROBABILITY\n",
    "\n",
    "a=4/9\n",
    "b=0.5\n",
    "\n",
    "z=b*(a*b)**0+\\\n",
    "b*(a*b)**1+\\\n",
    "b*(a*b)**2+\\\n",
    "b*(a*b)**3+\\\n",
    "b*(a*b)**4+\\\n",
    "b*(a*b)**5+\\\n",
    "b*(a*b)**6+\\\n",
    "b*(a*b)**7+\\\n",
    "b*(a*b)**8+\\\n",
    "b*(a*b)**9+\\\n",
    "b*(a*b)**10+\\\n",
    "b*(a*b)**11#a*b*a*b*a*b*a*b*a*b*a*b*a*b*a*b*a*b*a*b*a*b\n",
    "\n",
    "(z).as_integer_ratio()\n",
    "Fraction(*z.as_integer_ratio()).limit_denominator()\n",
    "\n",
    "\n"
   ]
  },
  {
   "cell_type": "code",
   "execution_count": null,
   "metadata": {
    "colab": {
     "base_uri": "https://localhost:8080/"
    },
    "id": "vnJsGxvg3PRs",
    "outputId": "5097526a-3d72-4123-f5d4-477e8b6b86a1"
   },
   "outputs": [
    {
     "name": "stdout",
     "output_type": "stream",
     "text": [
      "S5 PROB:  9/14 \n",
      "\n",
      "S4/S3 PROB:  1/7\n"
     ]
    }
   ],
   "source": [
    "# S5 PROB\n",
    "a=4/9\n",
    "b=0.5\n",
    "z1=sum([b*(a*b)**i for i in range(12) ])\n",
    "#Fraction(*z.as_integer_ratio()).limit_denominator()\n",
    "\n",
    "# print('A: ',[b*(a*b)**0,b*(a*b)**1,b*(a*b)**2,b*(a*b)**3])\n",
    "# [b*(a*b)**i for i in range(11) ]\n",
    "print(\"S5 PROB: \", Fraction(*z1.as_integer_ratio()).limit_denominator(),'\\n')\n",
    "\n",
    "\n",
    "# S3, S4 PROB\n",
    "a=4/9; b=2/9; c=.5\n",
    "\n",
    "z2=sum([c*b*(a*c)**i for i in range(12) ])\n",
    "\n",
    "\n",
    "def sumRepProb(A):\n",
    "  return (A**(50+1)-1)/(A-1)\n",
    "#S0 --> S2 --> S4\n",
    "z2=(sumRepProb(c*a))*b*c\n",
    "print(\"S4/S3 PROB: \",Fraction(*z2.as_integer_ratio()).limit_denominator())\n",
    "\n",
    "#str(Fraction(*z2.as_integer_ratio()).limit_denominator()).split('/')[1]\n",
    "\n",
    "\n",
    "\n"
   ]
  },
  {
   "cell_type": "code",
   "execution_count": null,
   "metadata": {
    "colab": {
     "base_uri": "https://localhost:8080/"
    },
    "id": "T8QwGig3V0CD",
    "outputId": "1693eb80-c3ac-4777-b727-9ac54d9507cd"
   },
   "outputs": [
    {
     "data": {
      "text/plain": [
       "['3', '14']"
      ]
     },
     "execution_count": 9,
     "metadata": {
      "tags": []
     },
     "output_type": "execute_result"
    }
   ],
   "source": [
    "a=4/9; b=3/9; c=.5\n",
    "A=(a*c)\n",
    "\n",
    "-A/(A-1)\n",
    "\n",
    "\n",
    "z=sum([A**i for i in range(12) ])\n",
    "\n",
    "\n",
    "#A=3/5\n",
    "A1=3\n",
    "A2=5\n",
    "\n",
    "z1x=(A1**(120+1)-1)/(A1-1)\n",
    "z2x=(A2**(120+1)-1)/(A2-1)\n",
    "\n",
    "zx=(A**(120+1)-1)/(A-1)\n",
    "\n",
    "\n",
    "z=zx*c*b\n",
    "str(Fraction(*z.as_integer_ratio()).limit_denominator()).split('/')\n"
   ]
  },
  {
   "cell_type": "code",
   "execution_count": null,
   "metadata": {
    "colab": {
     "base_uri": "https://localhost:8080/"
    },
    "id": "1rKNbVYuyu2g",
    "outputId": "4ba7b355-ad90-4b5b-b660-975a0c283f7f"
   },
   "outputs": [
    {
     "data": {
      "text/plain": [
       "Fraction(1, 7)"
      ]
     },
     "execution_count": 10,
     "metadata": {
      "tags": []
     },
     "output_type": "execute_result"
    }
   ],
   "source": [
    "(1/2)*(3/9)+(1/2)*(4/9)*(3/9)*(1/2)+(1/2)*(4/9)*(1/2)*(4/9)*(3/9)*(1/2)+(1/2)*(4/9)*(1/2)*(4/9)*(1/2)*(3/9)*(1/2)\n",
    "#3/14\n",
    "\n",
    "# S3 and S4  PROBABILITY\n",
    "a=4/9; b=2/9; c=.5\n",
    "z=c*(a*c)**0*b+\\\n",
    "c*(a*c)**1*b+\\\n",
    "c*(a*c)**2*b+\\\n",
    "c*(a*c)**3*b+\\\n",
    "c*(a*c)**4*b+\\\n",
    "c*(a*c)**5*b+\\\n",
    "c*(a*c)**6*b+\\\n",
    "c*(a*c)**7*b+\\\n",
    "c*(a*c)**8*b+\\\n",
    "c*(a*c)**9*b+\\\n",
    "c*(a*c)**10*b+\\\n",
    "c*(a*c)**11*b+\\\n",
    "c*(a*c)**12*b+\\\n",
    "c*(a*c)**13*b+\\\n",
    "c*(a*c)**14*b+\\\n",
    "c*(a*c)**15*b\n",
    "#3/14\n",
    "Fraction(z).limit_denominator()"
   ]
  },
  {
   "cell_type": "code",
   "execution_count": null,
   "metadata": {
    "id": "XThElAXpEXpc"
   },
   "outputs": [],
   "source": [
    "(1/2)*(3/9)+(1/2)*(4/9)*(3/9)*(1/2)+(1/2)*(4/9)*(1/2)*(4/9)*(3/9)*(1/2)+(1/2)*(4/9)*(1/2)*(4/9)*(1/2)*(3/9)*(1/2)\n",
    "#3/14\n",
    "\n",
    "# S3 PROBABILITY\n",
    "a=4/9; b=3/9\n",
    "z=0.5*b+\\\n",
    "0.5*a*0.5*b+\\\n",
    "0.5*a*0.5*a*0.5*b+\\\n",
    "0.5*a*0.5*a*0.5*b*a*0.5+\\\n",
    "0.5*a*0.5*a*0.5*b*a*0.5*a*0.5+\\\n",
    "0.5*a*0.5*a*0.5*b*a*0.5*a*0.5*a*0.5+\\\n",
    "0.5*a*0.5*a*0.5*b*a*0.5*a*0.5*a*0.5*a*0.5+\\\n",
    "0.5*a*0.5*a*0.5*b*a*0.5*a*0.5*a*0.5*a*0.5*a*0.5+\\\n",
    "0.5*a*0.5*a*0.5*b*a*0.5*a*0.5*a*0.5*a*0.5*a*0.5*a*0.5+\\\n",
    "0.5*a*0.5*a*0.5*b*a*0.5*a*0.5*a*0.5*a*0.5*a*0.5*a*0.5*a*0.5+\\\n",
    "0.5*a*0.5*a*0.5*b*a*0.5*a*0.5*a*0.5*a*0.5*a*0.5*a*0.5*a*0.5*0.5*a+\\\n",
    "0.5*a*0.5*a*0.5*b*a*0.5*a*0.5*a*0.5*a*0.5*a*0.5*a*0.5*a*0.5*0.5*a*a*.5+\\\n",
    "0.5*a*0.5*a*0.5*b*a*0.5*a*0.5*a*0.5*a*0.5*a*0.5*a*0.5*a*0.5*0.5*a*a*.5*a*0.5+\\\n",
    "0.5*a*0.5*a*0.5*b*a*0.5*a*0.5*a*0.5*a*0.5*a*0.5*a*0.5*a*0.5*0.5*a*a*.5*a*0.5*a*0.5+\\\n",
    "0.5*a*0.5*a*0.5*b*a*0.5*a*0.5*a*0.5*a*0.5*a*0.5*a*0.5*a*0.5*0.5*a*a*.5*a*0.5*a*0.5*a*0.5\n",
    "0.5*a*0.5*a*0.5*b*a*0.5*a*0.5*a*0.5*a*0.5*a*0.5*a*0.5*a*0.5*0.5*a*a*.5*4/9*0.5*4/9*0.5*4/9*0.5*4/9*0.5+\\\n",
    "0.5*a*0.5*a*0.5*b*a*0.5*a*0.5*a*0.5*a*0.5*a*0.5*a*0.5*a*0.5*0.5*a*a*.5*4/9*0.5*4/9*0.5*4/9*0.5*4/9*0.5*0.5*4/9+\\\n",
    "0.5*a*0.5*a*0.5*b*a*0.5*a*0.5*a*0.5*a*0.5*a*0.5*a*0.5*a*0.5*0.5*a*a*.5*4/9*0.5*4/9*0.5*4/9*0.5*4/9*0.5*0.5*4/9*0.5*4/9+\\\n",
    "0.5*a*0.5*a*0.5*b*a*0.5*a*0.5*a*0.5*a*0.5*a*0.5*a*0.5*a*0.5*0.5*a*a*.5*4/9*0.5*4/9*0.5*4/9*0.5*4/9*0.5*0.5*4/9*0.5*4/9*0.5*4/9+\\\n",
    "0.5*a*0.5*a*0.5*b*a*0.5*a*0.5*a*0.5*a*0.5*a*0.5*a*0.5*a*0.5*0.5*a*a*.5*4/9*0.5*4/9*0.5*4/9*0.5*4/9*0.5*0.5*4/9*0.5*4/9*0.5*4/9*0.5*4/9+\\\n",
    "0.5*a*0.5*a*0.5*b*a*0.5*a*0.5*a*0.5*a*0.5*a*0.5*a*0.5*a*0.5*0.5*a*a*.5*4/9*0.5*4/9*0.5*4/9*0.5*4/9*0.5*0.5*4/9*0.5*4/9*0.5*4/9*0.5*4/9*0.5*4/9\n",
    "0.5*a*0.5*a*0.5*b*a*0.5*a*0.5*a*0.5*a*0.5*a*0.5*a*0.5*a*0.5*0.5*a*a*.5*4/9*0.5*4/9*0.5*4/9*0.5*4/9*0.5*0.5*4/9*0.5*4/9*0.5*4/9*0.5*4/9*0.5*4/9*0.5*4/9\n",
    "# 0.5*a*0.5*a*0.5*b*a*0.5*a*0.5*a*0.5*a*0.5*a*0.5*a*0.5*a*0.5*0.5*a*a*.5*4/9*0.5*4/9*0.5*4/9*0.5*4/9*0.5*0.5*4/9*0.5*4/9*0.5*4/9*0.5*4/9*0.5*4/9*0.5*4/9*0.5*4/9+\\\n",
    "# 0.5*a*0.5*a*0.5*b*a*0.5*a*0.5*a*0.5*a*0.5*a*0.5*a*0.5*a*0.5*0.5*a*a*.5*4/9*0.5*4/9*0.5*4/9*0.5*4/9*0.5*0.5*4/9*0.5*4/9*0.5*4/9*0.5*4/9*0.5*4/9*0.5*4/9*0.5*4/9*0.5*4/9+\\\n",
    "# 0.5*a*0.5*a*0.5*b*a*0.5*a*0.5*a*0.5*a*0.5*a*0.5*a*0.5*a*0.5*0.5*a*a*.5*4/9*0.5*4/9*0.5*4/9*0.5*4/9*0.5*0.5*4/9*0.5*4/9*0.5*4/9*0.5*4/9*0.5*4/9*0.5*4/9*0.5*4/9*0.5*4/9*0.5*4/9+\\\n",
    "# 0.5*a*0.5*a*0.5*b*a*0.5*a*0.5*a*0.5*a*0.5*a*0.5*a*0.5*a*0.5*0.5*a*a*.5*4/9*0.5*4/9*0.5*4/9*0.5*4/9*0.5*0.5*4/9*0.5*4/9*0.5*4/9*0.5*4/9*0.5*4/9*0.5*4/9*0.5*4/9*0.5*4/9*0.5*4/9*0.5*4/9+\\\n",
    "# 0.5*a*0.5*a*0.5*b*a*0.5*a*0.5*a*0.5*a*0.5*a*0.5*a*0.5*a*0.5*0.5*a*a*.5*4/9*0.5*4/9*0.5*4/9*0.5*4/9*0.5*0.5*4/9*0.5*4/9*0.5*4/9*0.5*4/9*0.5*4/9*0.5*4/9*0.5*4/9*0.5*4/9*0.5*4/9*0.5*4/9*0.5*4/9+\\\n",
    "# 0.5*a*0.5*a*0.5*b*a*0.5*a*0.5*a*0.5*a*0.5*a*0.5*a*0.5*a*0.5*0.5*a*a*.5*4/9*0.5*4/9*0.5*4/9*0.5*4/9*0.5*0.5*4/9*0.5*4/9*0.5*4/9*0.5*4/9*0.5*4/9*0.5*4/9*0.5*4/9*0.5*4/9*0.5*4/9*0.5*4/9*0.5*4/9*0.5*4/9\n",
    "# #0.5*4/9*0.5*4/9*0.5*3/9*4/9*0.5*4/9*0.5*4/9*0.5*4/9*0.5*4/9*0.5*4/9*0.5*4/9*0.5*0.5*4/9*4/9*.5*4/9*0.5*4/9*0.5*4/9*0.5*4/9*0.5\n",
    "#0.5*4/9*0.5*4/9*0.5*3/9*4/9*0.5*4/9*0.5*4/9*0.5*4/9*0.5*4/9*0.5*4/9*0.5*4/9*0.5*0.5*4/9*4/9*.5*4/9*0.5*4/9*0.5*4/9*0.5*4/9*0.5+*4/9*0.5\n",
    "#0.5*4/9*0.5*4/9*0.5*3/9*4/9*0.5*4/9*0.5*4/9*0.5*4/9*0.5*4/9*0.5*4/9*0.5*4/9*0.5*0.5*4/9*4/9*.5*4/9*0.5*4/9*0.5*4/9*0.5*4/9*0.5+*4/9*0.5*0.5*4/9+\\\n",
    "#0.5*4/9*0.5*4/9*0.5*3/9*4/9*0.5*4/9*0.5*4/9*0.5*4/9*0.5*4/9*0.5*4/9*0.5*4/9*0.5*0.5*4/9*4/9*.5*4/9*0.5*4/9*0.5*4/9*0.5*4/9*0.5+*4/9*0.5*0.5*4/9*0.5*4/9\n",
    "#0.5*4/9*0.5*4/9*0.5*3/9*4/9*0.5*4/9*0.5*4/9*0.5*4/9*0.5*4/9*0.5*4/9*0.5*4/9*0.5*0.5*4/9*4/9*.5*4/9*0.5*4/9*0.5*4/9*0.5*4/9*0.5+*4/9*0.5*0.5*4/9*0.5*4/9*0.5*4/9\n",
    "\n",
    "\n",
    "\n",
    "#3/14\n",
    "Fraction(z).limit_denominator()"
   ]
  },
  {
   "cell_type": "markdown",
   "metadata": {
    "id": "oEteSCyUgABw"
   },
   "source": [
    "Constraints \n",
    "\n",
    "---\n",
    "\n",
    "#### Python\n",
    "======\n",
    "\n",
    "Your code will run inside a Python 2.7.13 sandbox. All tests will be run by calling the solution() function.\n",
    "\n",
    "Standard libraries are supported except for bz2, crypt, fcntl, mmap, pwd, pyexpat, select, signal, termios, thread, time, unicodedata, zipimport, zlib.\n",
    "\n",
    "Input/output operations are not allowed.\n",
    "\n",
    "Your solution must be under 32000 characters in length including new lines and and other non-printing characters."
   ]
  },
  {
   "cell_type": "code",
   "execution_count": null,
   "metadata": {
    "id": "uO9ZiUh6dxag"
   },
   "outputs": [],
   "source": [
    " \n",
    "import numpy as np\n",
    "b=[0]\n",
    "c=0\n",
    "d=0\n",
    "z=0\n",
    "n=int(1e4)\n",
    "for i in range(n):\n",
    "  while b[0]==0:\n",
    "    z+=1\n",
    "    a=np.random.choice([1, 5],1, p=[0.5, 0.5])\n",
    "\n",
    "    if a[0]==1:\n",
    "      b=np.random.choice([0,3, 4],1, p=[4/9, 3/9, 2/9])\n",
    "      if b[0]==4:\n",
    "        c+=1;\n",
    "       \n",
    "    else:\n",
    "       d+=1\n",
    "       break\n",
    "  \n",
    "  b=[0]\n",
    "\n",
    "    \n",
    "        # break;\n",
    "\n",
    "    # else:\n",
    "    #   b[0]=0\n",
    "    #   break;\n",
    "\n",
    "\n",
    "\n"
   ]
  },
  {
   "cell_type": "code",
   "execution_count": null,
   "metadata": {
    "colab": {
     "base_uri": "https://localhost:8080/"
    },
    "id": "xP9vfEeBq_Oh",
    "outputId": "6a3a74cc-87da-4290-a155-d699bf67a468"
   },
   "outputs": [
    {
     "name": "stderr",
     "output_type": "stream",
     "text": [
      "/usr/local/lib/python3.6/dist-packages/ipykernel_launcher.py:13: RuntimeWarning: invalid value encountered in true_divide\n",
      "  del sys.path[0]\n"
     ]
    },
    {
     "data": {
      "text/plain": [
       "Fraction(12, 133)"
      ]
     },
     "execution_count": 12,
     "metadata": {
      "tags": []
     },
     "output_type": "execute_result"
    }
   ],
   "source": [
    "import numpy as np\n",
    "from fractions import Fraction\n",
    "\n",
    "m=[[1,2,2,0,0,3],\n",
    "[2,0,0,3,5,0],\n",
    "[0,0,2,0,7,0],\n",
    "[0,0,0,0,0,0],\n",
    "[0,0,0,0,0,0]]\n",
    "\n",
    "#a0*a0*...*a1*b0*a1*b0...*a1*b3\n",
    "\n",
    "\n",
    "mp=[m[i]/np.sum(m,axis=1)[i] for i in range(len(m))]\n",
    "\n",
    "\n",
    "A=np.random.choice([0,1,2, 5],1, p=[1/8, 2/8,2/8,3/8])\n",
    "B=np.random.choice([0,3,4],1, p=[2/10, 3/10,5/10])\n",
    "C=np.random.choice([2,4],1, p=[2/9, 7/9])\n",
    "\n",
    "def sumRepProb(A):\n",
    "  return (A**(50+1)-1)/(A-1)\n",
    "#S0 --> S2 --> S4\n",
    "\n",
    "z=sumRepProb(mp[0][0])*sumRepProb(mp[1][0]*mp[0][1])*mp[0][2]*sumRepProb(mp[2][2])*mp[2][4]\n",
    "z=sumRepProb(mp[0][0])*sumRepProb(mp[1][0]*mp[0][1])*mp[0][1]*mp[1][3]\n",
    "\n",
    "Fraction(*z.as_integer_ratio()).limit_denominator()\n",
    "\n",
    "\n",
    "\n",
    "\n",
    "\n",
    "\n"
   ]
  },
  {
   "cell_type": "markdown",
   "metadata": {
    "id": "fl7Z8ezDJzkB"
   },
   "source": [
    "### The matrix for the below example:\n",
    "\n",
    "` m=[[1,2,2,0,0,3], `\n",
    "\n",
    "` [2,0,0,3,5,0], `\n",
    "\n",
    "` [0,0,2,0,7,0], `\n",
    "\n",
    "` [0,0,0,0,0,0], `\n",
    "\n",
    "` [0,0,0,0,0,0]] `"
   ]
  },
  {
   "cell_type": "code",
   "execution_count": null,
   "metadata": {
    "colab": {
     "base_uri": "https://localhost:8080/"
    },
    "id": "Ar3A7Q8cHDqX",
    "outputId": "1136b15a-02d1-41ff-cc07-9098aacea636"
   },
   "outputs": [
    {
     "data": {
      "text/plain": [
       "0.0926"
      ]
     },
     "execution_count": 13,
     "metadata": {
      "tags": []
     },
     "output_type": "execute_result"
    }
   ],
   "source": [
    "import numpy as np\n",
    "n=int(1e4)\n",
    "a=[0]; b=[0]\n",
    "c=0\n",
    "for i in range(n):\n",
    "  a=[0]; b=[0]\n",
    "  while a[0]==0:\n",
    "    a=np.random.choice([0,1,2, 5],1, p=[1/8, 2/8,2/8,3/8])\n",
    "  if a[0]==1:\n",
    "    while b[0]==0 and a[0]==1:\n",
    "      b=np.random.choice([0,3,4],1, p=[2/10, 3/10,5/10])\n",
    "      a=np.random.choice([0,1,2, 5],1, p=[1/8, 2/8,2/8,3/8])\n",
    "      while a[0]==0:\n",
    "        a=np.random.choice([0,1,2, 5],1, p=[1/8, 2/8,2/8,3/8])\n",
    "    if b[0]==3:\n",
    "      c+=1\n",
    "\n",
    "  \n",
    "  \n",
    "\n",
    "c/n\n",
    "# def arand():\n",
    "#   a=np.random.choice([0,1,2, 5],1, p=[1/8, 2/8,2/8,3/8])\n",
    "#   while a[0]==0:\n",
    "#     a=np.random.choice([0,1,2, 5],1, p=[1/8, 2/8,2/8,3/8])\n",
    "#   if a[0]==1:\n",
    "#       return True\n",
    "# def brand():\n",
    "#   #b=[0]\n",
    "  \n",
    "#   b=np.random.choice([0,3,4],1, p=[2/10, 3/10,5/10])\n",
    "#   while b[0]==0:\n",
    "#     if arand():\n",
    "#       b=np.random.choice([0,3,4],1, p=[2/10, 3/10,5/10])\n",
    "    \n",
    "#   if b[0]==3:\n",
    "#       return True\n",
    "\n",
    "# n=int(1e3)\n",
    "# c=0\n",
    "# for i in range(n):\n",
    "#   #a=[0]; b=[0]\n",
    "  \n",
    "#   # while a[0]==0:\n",
    "#   #   a=np.random.choice([0,1,2, 5],1, p=[1/8, 2/8,2/8,3/8])\n",
    "#   if arand():\n",
    "#     # while b[0]==0:\n",
    "#     #   b=np.random.choice([0,3,4],1, p=[2/10, 3/10,5/10])\n",
    "\n",
    "\n",
    "#     if brand():\n",
    "#       c+=1\n",
    "\n",
    "# c/n\n"
   ]
  },
  {
   "cell_type": "code",
   "execution_count": null,
   "metadata": {
    "colab": {
     "base_uri": "https://localhost:8080/"
    },
    "id": "N1fDUpCZtQYv",
    "outputId": "fc848982-c230-4e5d-a75e-1bebe39b1e39"
   },
   "outputs": [
    {
     "name": "stderr",
     "output_type": "stream",
     "text": [
      "/usr/local/lib/python3.6/dist-packages/ipykernel_launcher.py:6: RuntimeWarning: invalid value encountered in true_divide\n",
      "  \n"
     ]
    }
   ],
   "source": [
    "# #[i for i in m [e for e in i]]\n",
    "# n=m\n",
    "# print([t for t in [n[i:(i+4)]  for i in range(4)]])\n",
    "\n",
    "\n",
    "mprob=[m[i]/np.sum(m,axis=1)[i] for i in range(len(m))]\n",
    "\n"
   ]
  },
  {
   "cell_type": "code",
   "execution_count": null,
   "metadata": {
    "colab": {
     "base_uri": "https://localhost:8080/"
    },
    "id": "whvata4B2qqD",
    "outputId": "8f255b44-8f07-488a-c746-91ec9f424dd7"
   },
   "outputs": [
    {
     "data": {
      "text/plain": [
       "Fraction(463, 5000)"
      ]
     },
     "execution_count": 17,
     "metadata": {
      "tags": []
     },
     "output_type": "execute_result"
    }
   ],
   "source": [
    "from fractions import Fraction\n",
    "# Fraction(c/n)[0]/Fraction(c/n)[1]\n",
    "Fraction(np.round(c/n,4)).limit_denominator()"
   ]
  },
  {
   "cell_type": "code",
   "execution_count": null,
   "metadata": {
    "colab": {
     "base_uri": "https://localhost:8080/"
    },
    "id": "z2_v1dGdTR0A",
    "outputId": "916b1cca-f976-4c69-bb1c-0574fff7014d"
   },
   "outputs": [
    {
     "data": {
      "text/plain": [
       "[array([[2, 1, 3, 0, 0, 1],\n",
       "        [4, 0, 0, 3, 0, 0],\n",
       "        [0, 1, 3, 1, 0, 0],\n",
       "        [0, 1, 0, 0, 1, 0],\n",
       "        [0, 0, 0, 0, 0, 0],\n",
       "        [0, 0, 0, 0, 0, 0]]), array([[2, 1, 3, 0, 0, 1],\n",
       "        [4, 0, 0, 3, 2, 0],\n",
       "        [0, 1, 3, 1, 0, 0],\n",
       "        [0, 1, 0, 0, 0, 0],\n",
       "        [0, 0, 0, 0, 0, 0],\n",
       "        [0, 0, 0, 0, 0, 0]])]"
      ]
     },
     "execution_count": 42,
     "metadata": {
      "tags": []
     },
     "output_type": "execute_result"
    }
   ],
   "source": [
    "\n",
    "m=[[2,1,3,0,0,1],\n",
    "[4,0,0,3,2,0],\n",
    "[0,0,3,0,1,0],\n",
    "[0,0,0,0,0,0],\n",
    "[0,0,0,0,0,0],\n",
    "[0,0,0,0,0,0]]\n",
    "\n",
    "\n",
    "m=np.array([[2,1,3,0,0,1],\n",
    "[4,0,0,3,2,0],\n",
    "[0,1,3,1,0,0],\n",
    "[0,1,0,0,1,0],\n",
    "[0,0,0,0,0,0],\n",
    "[0,0,0,0,0,0]])\n",
    "dm2=dict()\n",
    "for t in term:\n",
    "  #print(t,':\\t',np.count_nonzero(np.nonzero(m)[1] == t))\n",
    " # dm[t]=np.count_nonzero(np.nonzero(m)[1] == t)\n",
    "  for rowi in range(len(m)):\n",
    "    if m[rowi][t] >0:\n",
    "      dm2.setdefault(t, []).append(rowi)\n",
    "      #dm2[t].append(rowi)\n",
    "\n",
    "#np.nonzero(m)[0].reshape(np.array(term).shape)\n",
    "\n",
    "\n",
    "\n",
    "#print(dm2)\n",
    "M=[]\n",
    "for k in dm2.keys():\n",
    "  if len(dm2[k])>1:\n",
    "    for v in dm2[k]:\n",
    "      mx=deepcopy(m)\n",
    "      #print(mx[v][k])\n",
    "      mx[v][k]=0\n",
    "\n",
    "      M.append(mx)\n",
    "if len(M)<2:\n",
    "  M=[m]\n",
    "M"
   ]
  },
  {
   "cell_type": "code",
   "execution_count": null,
   "metadata": {
    "colab": {
     "base_uri": "https://localhost:8080/"
    },
    "id": "r79L3uSEkAuP",
    "outputId": "88ccb97e-d30f-49c1-aa00-0c356064f673"
   },
   "outputs": [
    {
     "data": {
      "text/plain": [
       "{4: [1], 5: [0]}"
      ]
     },
     "execution_count": 115,
     "metadata": {
      "tags": []
     },
     "output_type": "execute_result"
    }
   ],
   "source": [
    "dm2"
   ]
  },
  {
   "cell_type": "code",
   "execution_count": null,
   "metadata": {
    "colab": {
     "base_uri": "https://localhost:8080/"
    },
    "id": "M6K2V0d5thdn",
    "outputId": "f7d4af38-94f9-459f-ce0a-4e11968da5df"
   },
   "outputs": [
    {
     "name": "stderr",
     "output_type": "stream",
     "text": [
      "/usr/local/lib/python3.6/dist-packages/ipykernel_launcher.py:43: DeprecationWarning: elementwise comparison failed; this will raise an error in the future.\n"
     ]
    },
    {
     "data": {
      "text/plain": [
       "array([list([4]), list([4, 1, 0]), list([5, 0])], dtype=object)"
      ]
     },
     "execution_count": 80,
     "metadata": {
      "tags": []
     },
     "output_type": "execute_result"
    }
   ],
   "source": [
    "# 1. Index the terminals of any given square matrix\n",
    "# 2. Find 'root paths'\n",
    "    # Which arrays contain the terminal state?\n",
    "# 3. Add generalized conditions\n",
    "# 4. Treat double (or alternative) cases/paths\n",
    "# 5. Treat 'cyclic' paths\n",
    "from copy import deepcopy\n",
    "\n",
    "m=[[2,1,3,0,0,1],\n",
    "[4,0,0,3,2,0],\n",
    "[0,0,3,0,1,0],\n",
    "[0,0,0,0,0,0],\n",
    "[0,0,0,0,0,0],\n",
    "[0,0,0,0,0,0]]\n",
    "\n",
    "\n",
    "m=np.array([[2,1,3,0,0,1],\n",
    "[4,0,0,3,2,0],\n",
    "[0,1,3,1,0,0],\n",
    "[0,1,0,0,1,0],\n",
    "[0,0,0,0,0,0],\n",
    "[0,0,0,0,0,0]])\n",
    "m=np.array(m)\n",
    "# Index terminals:\n",
    "term=np.where(np.sum(m, axis=1)==0)[0]\n",
    "# P=0 terminals:\n",
    "p0term=np.where(np.sum(m, axis=0)==0)[0]\n",
    "\n",
    "#list(term).remove(p0term)\n",
    "   \n",
    "\n",
    "\n",
    "nonterm=np.setdiff1d(list(range(len(m))),term)\n",
    "\n",
    "\n",
    "# Remove P=0 terminals from term list\n",
    "\n",
    "indp0=np.where(term==p0term)\n",
    "term=np.delete(term,indp0)    \n",
    "\n",
    "term\n",
    "nonterm\n",
    "\n",
    "def hasInd(m,nonterm, state):\n",
    "  for i in nonterm:\n",
    "    if state in np.nonzero(m[i])[0]:\n",
    "      return i\n",
    "  return -1\n",
    "\n",
    "\n",
    "\n",
    "# Prepare matrices\n",
    "\n",
    "\n",
    "lstx2=[]\n",
    "for m in M:\n",
    "\n",
    "  #print(m)\n",
    "  for t in term:\n",
    "    #for v in dm2[t]:\n",
    "      lstx=[]\n",
    "      while t>0:\n",
    "        lstx.append(t)\n",
    "        t=hasInd(deepcopy(m),nonterm,t)\n",
    "        if t==0:\n",
    "          lstx.append(t)\n",
    "          break\n",
    "      lstx2.append(lstx)\n",
    "\n",
    "  \n",
    "lstx2\n",
    "#term\n",
    "#dm2\n",
    "#M\n",
    "lstx3=np.unique(lstx2)\n",
    "\n",
    "lstx3\n",
    "\n"
   ]
  },
  {
   "cell_type": "code",
   "execution_count": null,
   "metadata": {
    "id": "GB9vy7lO0IvO"
   },
   "outputs": [],
   "source": [
    "lstx3[0]"
   ]
  },
  {
   "cell_type": "code",
   "execution_count": null,
   "metadata": {
    "id": "dI2vdWTKPPiH"
   },
   "outputs": [],
   "source": [
    "\n",
    "m=[[2,1,3,0,0,1],\n",
    "[4,0,0,3,2,0],\n",
    "[0,0,3,1,0,0],\n",
    "[0,0,0,0,0,0],\n",
    "[0,0,0,0,0,0],\n",
    "[0,0,0,0,0,0]]"
   ]
  },
  {
   "cell_type": "code",
   "execution_count": null,
   "metadata": {
    "colab": {
     "base_uri": "https://localhost:8080/"
    },
    "id": "Lebi9q-S6ho6",
    "outputId": "87fe01be-97a0-444c-804d-6c74a8063678"
   },
   "outputs": [
    {
     "name": "stdout",
     "output_type": "stream",
     "text": [
      "[[2 1 3 0 0 1]\n",
      " [4 0 0 3 2 0]\n",
      " [0 1 3 1 0 0]\n",
      " [0 1 0 0 0 0]\n",
      " [0 0 0 0 0 0]\n",
      " [0 0 0 0 0 0]]\n",
      "[[4, 3, 1, 0], [5, 0], [4, 1, 0], [5, 0]]\n"
     ]
    },
    {
     "data": {
      "text/plain": [
       "array([[2, 1, 3, 0, 0, 1],\n",
       "       [4, 0, 0, 3, 0, 0],\n",
       "       [0, 1, 3, 1, 0, 0],\n",
       "       [0, 1, 0, 0, 0, 0],\n",
       "       [0, 0, 0, 0, 0, 0],\n",
       "       [0, 0, 0, 0, 0, 0]])"
      ]
     },
     "execution_count": 22,
     "metadata": {
      "tags": []
     },
     "output_type": "execute_result"
    }
   ],
   "source": [
    "# term\n",
    "# for row in m:\n",
    "#   print(row)\n",
    "m=np.array(m)\n",
    "np.zeros(m.shape, dtype='bool')\n",
    "\n",
    "print(m)\n",
    "np.where(m)\n",
    "\n",
    "print(lstx2)\n",
    "updmat=[]\n",
    "for row in m:\n",
    "  if row[4] !=0:\n",
    "    row[4]=0\n",
    "  updmat.append(row)\n",
    "np.array(updmat)"
   ]
  },
  {
   "cell_type": "code",
   "execution_count": 277,
   "metadata": {
    "colab": {
     "base_uri": "https://localhost:8080/"
    },
    "id": "3slMl-LR56fE",
    "outputId": "9a5021f3-a794-4e0f-cfc7-3ec3001ca20d"
   },
   "outputs": [
    {
     "name": "stdout",
     "output_type": "stream",
     "text": [
      "{4: [1], 5: [0]}\n"
     ]
    },
    {
     "data": {
      "text/plain": [
       "[]"
      ]
     },
     "execution_count": 277,
     "metadata": {
      "tags": []
     },
     "output_type": "execute_result"
    }
   ],
   "source": [
    "# find how many times a term state is represented\n",
    "# in nonterm part of the matrix\n",
    "\n",
    "m=[[0,1,0,0,1,1],\n",
    "[4,0,0,3,2,0],\n",
    "[0,0,0,0,0,0],\n",
    "[0,0,0,0,0,0],\n",
    "[0,0,0,0,0,0],\n",
    "[0,0,0,0,0,0]]\n",
    "\n",
    "\n",
    "m=np.array([[2,1,3,0,0,1],\n",
    "[4,0,0,3,2,0],\n",
    "[0,1,3,1,0,0],\n",
    "[0,4,0,0,0,0],\n",
    "[0,0,0,0,0,0],\n",
    "[0,0,0,0,0,0]])\n",
    "\n",
    "\n",
    "\n",
    "m=np.array([[2,1,3,0,0,1],\n",
    "[4,0,0,3,2,0],\n",
    "[0,0,0,0,0,0],\n",
    "[0,0,0,0,0,0],\n",
    "[0,0,0,0,0,0],\n",
    "[0,0,0,0,0,0]])\n",
    "\n",
    "[np.count_nonzero(m == t) for t in term]\n",
    "dm=dict()\n",
    "dm2=dict()\n",
    "for t in term:\n",
    "  #print(t,':\\t',np.count_nonzero(np.nonzero(m)[1] == t))\n",
    " # dm[t]=np.count_nonzero(np.nonzero(m)[1] == t)\n",
    "  for rowi in range(len(m)):\n",
    "    if m[rowi][t] >0:\n",
    "      dm2.setdefault(t, []).append(rowi)\n",
    "      #dm2[t].append(rowi)\n",
    "\n",
    "#np.nonzero(m)[0].reshape(np.array(term).shape)\n",
    "\n",
    "\n",
    "\n",
    "print(dm2)\n",
    "M=[]\n",
    "for k in dm2.keys():\n",
    "  if len(dm2[k])>1:\n",
    "    for v in dm2[k]:\n",
    "      mx=deepcopy(m)\n",
    "      print(mx[v][k])\n",
    "      mx[v][k]=0\n",
    "\n",
    "      M.append(mx)\n",
    "M"
   ]
  },
  {
   "cell_type": "code",
   "execution_count": 5,
   "metadata": {
    "colab": {
     "base_uri": "https://localhost:8080/"
    },
    "id": "fVbC8-PjJkIk",
    "outputId": "5c27fa35-61a5-4a46-cb0d-2971557e1698"
   },
   "outputs": [
    {
     "data": {
      "text/plain": [
       "array([[0, 1, 0, 1, 0, 1],\n",
       "       [4, 0, 0, 3, 0, 0],\n",
       "       [3, 1, 3, 1, 0, 0],\n",
       "       [4, 1, 1, 5, 0, 0],\n",
       "       [0, 0, 0, 0, 0, 0],\n",
       "       [0, 0, 0, 0, 0, 0]])"
      ]
     },
     "execution_count": 5,
     "metadata": {},
     "output_type": "execute_result"
    }
   ],
   "source": [
    "m"
   ]
  },
  {
   "cell_type": "code",
   "execution_count": null,
   "metadata": {
    "colab": {
     "base_uri": "https://localhost:8080/"
    },
    "id": "2xtB9JKlQUar",
    "outputId": "8207c4a5-b1e0-4783-9552-a254a9497114"
   },
   "outputs": [
    {
     "data": {
      "text/plain": [
       "[]"
      ]
     },
     "execution_count": 22,
     "metadata": {
      "tags": []
     },
     "output_type": "execute_result"
    }
   ],
   "source": [
    "# Basic root paths:\n",
    "lstx2\n",
    "#nonterm\n",
    "\n",
    "#np.array(m).remove\n",
    "\n"
   ]
  },
  {
   "cell_type": "code",
   "execution_count": null,
   "metadata": {
    "colab": {
     "base_uri": "https://localhost:8080/"
    },
    "id": "CoLjwlkvKoWn",
    "outputId": "cacbbc59-adfb-4396-d922-2fd447f8c79b"
   },
   "outputs": [
    {
     "data": {
      "text/plain": [
       "[1, 0]"
      ]
     },
     "execution_count": 23,
     "metadata": {
      "tags": []
     },
     "output_type": "execute_result"
    }
   ],
   "source": [
    "lstx=[]\n",
    "a=4\n",
    "a=hasInd(m,nonterm,a)\n",
    "lstx.append(a)\n",
    "a=hasInd(m,nonterm,a)\n",
    "lstx.append(a)\n",
    "\n",
    "lstx\n"
   ]
  },
  {
   "cell_type": "code",
   "execution_count": null,
   "metadata": {
    "colab": {
     "base_uri": "https://localhost:8080/"
    },
    "id": "oejjPrL7oLK9",
    "outputId": "d4c35b51-a085-4dde-d48e-264364d6d27e"
   },
   "outputs": [
    {
     "data": {
      "text/plain": [
       "array([list([4, 1, 0]), list([5, 0])], dtype=object)"
      ]
     },
     "execution_count": 118,
     "metadata": {
      "tags": []
     },
     "output_type": "execute_result"
    }
   ],
   "source": [
    "lstx3\n",
    "#M"
   ]
  },
  {
   "cell_type": "code",
   "execution_count": null,
   "metadata": {
    "id": "IunT9pbf2X1P"
   },
   "outputs": [],
   "source": [
    "import numpy as np\n",
    "mm=[[1,1,1],[1,1,-1],[1,-1,-1]]\n",
    "\n",
    "np.linalg.inv(mm)\n"
   ]
  },
  {
   "cell_type": "code",
   "execution_count": null,
   "metadata": {
    "colab": {
     "base_uri": "https://localhost:8080/"
    },
    "id": "QYd_W_3mBwa3",
    "outputId": "3f97169c-b79b-48bf-8acf-b023635a94cd"
   },
   "outputs": [
    {
     "name": "stdout",
     "output_type": "stream",
     "text": [
      "CYCLE:\n",
      "m[0][0] = 2\n",
      "m[0][0] = 2 \n",
      "\n",
      "CYCLE:\n",
      "m[0][1] = 1\n",
      "m[1][0] = 4 \n",
      "\n",
      "m[0][2] = 3\n",
      "m[2][0] = 0 \n",
      "\n",
      "m[0][3] = 0\n",
      "m[3][0] = 0 \n",
      "\n",
      "m[0][4] = 0\n",
      "m[4][0] = 0 \n",
      "\n",
      "m[0][5] = 1\n",
      "m[5][0] = 0 \n",
      "\n",
      "m[1][1] = 0\n",
      "m[1][1] = 0 \n",
      "\n",
      "m[1][2] = 0\n",
      "m[2][1] = 1 \n",
      "\n",
      "CYCLE:\n",
      "m[1][3] = 3\n",
      "m[3][1] = 1 \n",
      "\n",
      "m[1][4] = 2\n",
      "m[4][1] = 0 \n",
      "\n",
      "m[1][5] = 0\n",
      "m[5][1] = 0 \n",
      "\n",
      "CYCLE:\n",
      "m[2][2] = 3\n",
      "m[2][2] = 3 \n",
      "\n",
      "m[2][3] = 1\n",
      "m[3][2] = 0 \n",
      "\n",
      "m[2][4] = 0\n",
      "m[4][2] = 0 \n",
      "\n",
      "m[2][5] = 0\n",
      "m[5][2] = 0 \n",
      "\n",
      "m[3][3] = 0\n",
      "m[3][3] = 0 \n",
      "\n",
      "m[3][4] = 1\n",
      "m[4][3] = 0 \n",
      "\n",
      "m[3][5] = 0\n",
      "m[5][3] = 0 \n",
      "\n",
      "m[4][4] = 0\n",
      "m[4][4] = 0 \n",
      "\n",
      "m[4][5] = 0\n",
      "m[5][4] = 0 \n",
      "\n",
      "m[5][5] = 0\n",
      "m[5][5] = 0 \n",
      "\n"
     ]
    }
   ],
   "source": [
    "\n",
    "m=[[2,1,3,0,0,1],\n",
    "[4,0,0,3,2,0],\n",
    "[0,0,3,1,0,0],\n",
    "[0,0,0,0,0,0],\n",
    "[0,0,0,0,0,0],\n",
    "[0,0,0,0,0,0]]\n",
    "\n",
    "m\n",
    "\n",
    "# Find cyclic patterns:\n",
    "# [0,[1,0,1,0,1,0]]; \n",
    "np.array([list([3, 1, 0]), list([4, 1, 0]), list([4, 2, 0]), list([5, 0])], dtype=object)\n",
    "\n",
    "#s0-->s1-->[s1-->s3-->s1...-->s3-->[s5-->s3-->s5-->s3...--->s5]]-->s4\n",
    "\n",
    "lstx3[0][::-1]\n",
    "\n",
    "#s0--s1-->s3\n",
    "\n",
    "m=[[2,1,3,0,0,1],\n",
    "[4,0,0,3,2,0],\n",
    "[0,0,3,1,0,0],\n",
    "[0,4,0,0,0,0],\n",
    "[0,0,0,0,0,0],\n",
    "[3,0,0,0,0,0]]\n",
    "\n",
    "# print(m[0][1])\n",
    "# print(m[1][0])\n",
    "\n",
    "# print(m[1][1])\n",
    "# check:\n",
    "\n",
    "# print(m[1][2])\n",
    "# print(m[2][1])\n",
    "# print(m[2][3])\n",
    "# print(m[3][2])\n",
    "\n",
    "# print(m[3][4])\n",
    "# print(m[4][3])\n",
    "\n",
    "# print(m[1][3])\n",
    "# print(m[3][1])\n",
    "# print(m[1][4])\n",
    "# print(m[4][1])\n",
    "\n",
    "\n",
    "lstx3\n",
    "term\n",
    "\n",
    "\n",
    "m=np.array([[2,1,3,0,0,1],\n",
    "[4,0,0,3,2,0],\n",
    "[0,1,3,1,0,0],\n",
    "[0,4,0,0,0,0],\n",
    "[0,0,0,0,0,0],\n",
    "[0,0,0,0,0,0]])\n",
    "\n",
    "\n",
    "\n",
    "\n",
    "\n",
    "m=np.array([[2,1,3,0,0,1],\n",
    "[4,0,0,3,2,0],\n",
    "[0,1,3,1,0,0],\n",
    "[0,1,0,0,1,0],\n",
    "[0,0,0,0,0,0],\n",
    "[0,0,0,0,0,0]])\n",
    "\n",
    "# 0,1 0,2 0,3 ...\n",
    "\n",
    "\n",
    "# 1,0\n",
    "# 1,2 [2,1] 1,3 [3,1] 1,4 [4,1]\n",
    "\n",
    "# 2,1 [2,3] 3,2 [2,4] 4,2\n",
    "\n",
    "# 3,2 [3,4] 4,3 \n",
    "\n",
    "# 4,3  \n",
    "\n",
    "\n",
    "# 2,0\n",
    "\n",
    "\n",
    "sets=[]\n",
    "cycles=[]\n",
    "for i in range(m.shape[0]):\n",
    "  for j in range(m.shape[1]):\n",
    "\n",
    "#   print(i)\n",
    "   #if i != j:\n",
    "   if set((i,j)) not in sets:\n",
    "      sets.append(set((i,j))) \n",
    "\n",
    "      if m[i][j] != 0 and m[j][i] != 0:\n",
    "        print('CYCLE:')\n",
    "        cycles.append((i,j))\n",
    "\n",
    "      \n",
    "      print(\"m[{}][{}] = {}\".format(i,j,m[i][j]))\n",
    "      print(\"m[{}][{}] = {}\".format(j,i,m[j][i]),'\\n')\n",
    "\n",
    "\n",
    "\n",
    "\n"
   ]
  },
  {
   "cell_type": "markdown",
   "metadata": {
    "id": "Jwmp8fmLYC48"
   },
   "source": [
    "\n",
    "\n",
    "```\n",
    "[\n",
    "[2,1,3,0,0,1],\n",
    "[4,0,0,3,2,0],\n",
    "[0,1,3,1,0,0],\n",
    "[0,1,0,0,1,0],\n",
    "[0,0,0,0,0,0],\n",
    "[0,0,0,0,0,0]\n",
    "]\n",
    "```\n",
    "\n"
   ]
  },
  {
   "cell_type": "code",
   "execution_count": null,
   "metadata": {
    "colab": {
     "base_uri": "https://localhost:8080/"
    },
    "id": "qQSy68psUBau",
    "outputId": "c347b510-1582-4565-8430-8abdfcecc526"
   },
   "outputs": [
    {
     "data": {
      "text/plain": [
       "array([list([4, 1, 0]), list([4, 3, 1, 0]), list([5, 0])], dtype=object)"
      ]
     },
     "execution_count": 25,
     "metadata": {
      "tags": []
     },
     "output_type": "execute_result"
    }
   ],
   "source": [
    "sets\n",
    "cycles\n",
    "lstx3"
   ]
  },
  {
   "cell_type": "code",
   "execution_count": null,
   "metadata": {
    "colab": {
     "base_uri": "https://localhost:8080/"
    },
    "id": "UkYpL3LCmOTL",
    "outputId": "a7f6c85d-f809-4acc-9565-af6ce2bc3e87"
   },
   "outputs": [
    {
     "data": {
      "text/plain": [
       "[(0, 0), (0, 1), (1, 3), (2, 2)]"
      ]
     },
     "execution_count": 26,
     "metadata": {
      "tags": []
     },
     "output_type": "execute_result"
    }
   ],
   "source": [
    "cycles"
   ]
  },
  {
   "cell_type": "code",
   "execution_count": null,
   "metadata": {
    "colab": {
     "base_uri": "https://localhost:8080/"
    },
    "id": "yZNAvgIsToKw",
    "outputId": "584e2fe5-99c1-48ce-f112-6916e19158dd"
   },
   "outputs": [
    {
     "data": {
      "text/plain": [
       "array([4, 5])"
      ]
     },
     "execution_count": 117,
     "metadata": {
      "tags": []
     },
     "output_type": "execute_result"
    }
   ],
   "source": [
    "set((0,1))==set((1,0))\n",
    "term"
   ]
  },
  {
   "cell_type": "code",
   "execution_count": 8,
   "metadata": {
    "id": "uZ4Z3mhqR9sV"
   },
   "outputs": [
    {
     "data": {
      "text/plain": [
       "array([[0, 1, 0, 1, 0, 1],\n",
       "       [4, 0, 0, 3, 0, 0],\n",
       "       [3, 1, 3, 1, 0, 0],\n",
       "       [4, 1, 1, 5, 0, 0],\n",
       "       [0, 0, 0, 0, 0, 0],\n",
       "       [0, 0, 0, 0, 0, 0]])"
      ]
     },
     "execution_count": 8,
     "metadata": {},
     "output_type": "execute_result"
    }
   ],
   "source": [
    "m"
   ]
  },
  {
   "cell_type": "code",
   "execution_count": null,
   "metadata": {
    "id": "cKYeTmnaR9ul"
   },
   "outputs": [],
   "source": []
  },
  {
   "cell_type": "code",
   "execution_count": null,
   "metadata": {
    "id": "u5Pns-BmR9wq"
   },
   "outputs": [],
   "source": []
  },
  {
   "cell_type": "code",
   "execution_count": 36,
   "metadata": {
    "colab": {
     "base_uri": "https://localhost:8080/"
    },
    "id": "GzE9A04HR9ze",
    "outputId": "dd6fc2c4-416a-417f-d4fb-7d8d890801ca"
   },
   "outputs": [
    {
     "name": "stdout",
     "output_type": "stream",
     "text": [
      "roots: [[3, 1, 0], [4, 1, 0], [5, 0]], cycles: [(0, 1)]\n"
     ]
    }
   ],
   "source": [
    "# 1. Index the terminals of any given square matrix\n",
    "# 2. Find 'root paths'\n",
    "    # Which arrays contain the terminal state?\n",
    "# 3. Add generalized conditions\n",
    "# 4. Treat double (or alternative) cases/paths\n",
    "# 5. Treat 'cyclic' paths\n",
    "from copy import deepcopy\n",
    "import numpy as np\n",
    "\n",
    "m=np.array([\n",
    "[2,1,3,3,0,1],\n",
    "[4,2,4,3,2,0],\n",
    "[3,1,3,1,1,0],\n",
    "[4,1,1,5,1,0],\n",
    "[0,0,0,0,0,0],\n",
    "[0,0,0,0,0,0]])\n",
    "\n",
    "\n",
    "m=[\n",
    "[0,1,0,1,0,1],\n",
    "[4,0,0,3,2,0],\n",
    "[3,1,3,1,1,0],\n",
    "[4,1,1,5,1,0],\n",
    "[0,0,0,0,0,0],\n",
    "[0,0,0,0,0,0]]\n",
    "m=[[0,1,0,0,0,1],\n",
    "   [4,0,0,3,2,0],\n",
    "   [0,0,0,0,0,0],\n",
    "   [0,0,0,0,0,0],\n",
    "   [0,0,0,0,0,0],\n",
    "   [0,0,0,0,0,0]]\n",
    "\n",
    "\n",
    "\n",
    "\n",
    "m0=deepcopy(m)\n",
    "\n",
    "m=np.array(m)\n",
    "\n",
    "diag=deepcopy(m).diagonal()\n",
    "np.fill_diagonal(m, 0)\n",
    "\n",
    "# Index terminals:\n",
    "term=np.where(np.sum(m, axis=1)==0)[0]\n",
    "# P=0 terminals:\n",
    "p0term=np.where(np.sum(m, axis=0)==0)[0]\n",
    "\n",
    "\n",
    "\n",
    "nonterm=np.setdiff1d(list(range(len(m))),term)\n",
    "\n",
    "\n",
    "# Remove P=0 terminals from term list\n",
    "indp0=np.where(term==p0term)\n",
    "term=np.delete(term,indp0)    \n",
    "\n",
    "\n",
    "# prepare dict\n",
    "dm2=dict()\n",
    "for t in term:\n",
    "  #print(t,':\\t',np.count_nonzero(np.nonzero(m)[1] == t))\n",
    " # dm[t]=np.count_nonzero(np.nonzero(m)[1] == t)\n",
    "  for rowi in range(len(m)):\n",
    "    if m[rowi][t] >0:\n",
    "      dm2.setdefault(t, []).append(rowi)\n",
    "      #dm2[t].append(rowi)\n",
    "\n",
    "\n",
    "\n",
    "\n",
    "dtrm=dict()\n",
    "for trm in term:\n",
    "  trmd=np.nonzero(m[:,trm])[0]\n",
    "  if len(trmd)>1:\n",
    "    \n",
    "    dtrm[trm]=deepcopy(m)[:,trm]\n",
    "    m[:,trm]=0\n",
    "\n",
    "M=[]\n",
    "if len(dtrm)>0:\n",
    "  for k in dtrm.keys():\n",
    "    for i in range(len(dtrm[k])):\n",
    "      if dtrm[k][i]>0:\n",
    "        mc=deepcopy(m)\n",
    "\n",
    "        #print(\"mcki:\",mc[k,i])\n",
    "\n",
    "        val=deepcopy(dtrm[k][i])\n",
    "        mc[:,k][i]=val\n",
    "\n",
    "        M.append(mc)\n",
    "\n",
    "\n",
    "\n",
    "for k in dm2.keys():\n",
    "  if len(dm2[k])>1:\n",
    "    for v in dm2[k]:\n",
    "      mx=deepcopy(m)\n",
    "      #print(mx[v][k])\n",
    "      mx[v][k]=0\n",
    "\n",
    "      M.append(mx)\n",
    "if len(M)<2:\n",
    "  M=[m]\n",
    "\n",
    "# M=[MM[2]]\n",
    "# M=[m]\n",
    "# M=[m]\n",
    "#np.nonzero(m)[0].reshape(np.array(term).shape)\n",
    "\n",
    "\n",
    "\n",
    "def hasInd(m_,nonterm, state):\n",
    "  for i in nonterm:\n",
    "    \n",
    "    if state in np.nonzero(m_[i])[0]:\n",
    "      \n",
    "\n",
    "      return i\n",
    "  return -1\n",
    "\n",
    "\n",
    "\n",
    "lstx2=[]\n",
    "for m_ in M:\n",
    "\n",
    "  #print(m)\n",
    "  for t in term:\n",
    "    #for v in dm2[t]:\n",
    "      lstx=[]\n",
    "      while t>0:\n",
    "        lstx.append(t)\n",
    "        t=hasInd(m_,nonterm,t)\n",
    "        if t==0:\n",
    "          lstx.append(t)\n",
    "          break\n",
    "      lstx2.append(lstx)\n",
    "\n",
    "\n",
    "lstx2\n",
    "#term\n",
    "#dm2\n",
    "#M\n",
    "roots=np.unique(lstx2)\n",
    "rootss=deepcopy(roots)\n",
    "roots=[]\n",
    "for root in rootss:\n",
    "  if 0 in root:\n",
    "    roots.append(root)\n",
    "\n",
    "# lstx3\n",
    "\n",
    "\n",
    "#print(dm2)\n",
    "\n",
    "\n",
    "\n",
    "\n",
    "\n",
    "sets=[]\n",
    "cycles=[]\n",
    "for i in range(m.shape[0]):\n",
    "  for j in range(m.shape[1]):\n",
    "\n",
    "#   print(i)\n",
    "   #if i != j:\n",
    "   if set((i,j)) not in sets:\n",
    "      sets.append(set((i,j))) \n",
    "\n",
    "      if m[i][j] != 0 and m[j][i] != 0:# and i!=j:\n",
    "#        print('CYCLE:')\n",
    "        cycles.append((i,j))\n",
    "\n",
    "      \n",
    "      # print(\"m[{}][{}] = {}\".format(i,j,m[i][j]))\n",
    "      # print(\"m[{}][{}] = {}\".format(j,i,m[j][i]),'\\n')\n",
    "\n",
    "\n",
    "for i in range(len(diag)):\n",
    "  if diag[i]>0:\n",
    "    cycles.append((i,i))\n",
    "\n",
    "np.fill_diagonal(m,diag)\n",
    "print('roots: {}, cycles: {}'.format(roots, cycles))\n",
    "\n"
   ]
  },
  {
   "cell_type": "code",
   "execution_count": 22,
   "metadata": {
    "colab": {
     "base_uri": "https://localhost:8080/"
    },
    "id": "0X4vgjJzt79k",
    "outputId": "62a036ed-af7b-4fcb-de02-a291432844fb"
   },
   "outputs": [
    {
     "data": {
      "text/plain": [
       "[[0, 1, 0, 1, 0, 1],\n",
       " [4, 0, 0, 3, 2, 0],\n",
       " [3, 1, 3, 1, 1, 0],\n",
       " [4, 1, 1, 5, 1, 0],\n",
       " [0, 0, 0, 0, 0, 0],\n",
       " [0, 0, 0, 0, 0, 0]]"
      ]
     },
     "execution_count": 22,
     "metadata": {},
     "output_type": "execute_result"
    }
   ],
   "source": [
    "m0"
   ]
  },
  {
   "cell_type": "code",
   "execution_count": 189,
   "metadata": {
    "colab": {
     "base_uri": "https://localhost:8080/"
    },
    "id": "IKgvuw2M0jRW",
    "outputId": "179a4f69-87a5-47b4-8b04-0db1ee8b4c65"
   },
   "outputs": [
    {
     "data": {
      "text/plain": [
       "array([[0, 1, 0, 1, 0, 1],\n",
       "       [4, 0, 0, 3, 2, 0],\n",
       "       [3, 1, 0, 1, 1, 0],\n",
       "       [4, 1, 1, 0, 1, 4],\n",
       "       [0, 0, 0, 0, 0, 0],\n",
       "       [0, 0, 0, 0, 0, 0]])"
      ]
     },
     "execution_count": 189,
     "metadata": {
      "tags": []
     },
     "output_type": "execute_result"
    }
   ],
   "source": [
    "m=np.array([\n",
    "            \n",
    "[0,1,0,1,0,1],\n",
    "[4,0,0,3,2,0],\n",
    "[3,1,0,1,1,0],\n",
    "[4,1,1,0,1,4],\n",
    "[0,0,0,0,0,0],\n",
    "[0,0,0,0,0,0]\n",
    "\n",
    "])\n",
    "m"
   ]
  },
  {
   "cell_type": "code",
   "execution_count": 214,
   "metadata": {
    "colab": {
     "base_uri": "https://localhost:8080/"
    },
    "id": "PXNncLva0f29",
    "outputId": "4539bed6-c97a-4e02-8d1a-f413e429b287"
   },
   "outputs": [
    {
     "data": {
      "text/plain": [
       "array([[0, 1, 0, 1, 0, 0],\n",
       "       [4, 0, 0, 3, 0, 0],\n",
       "       [3, 1, 0, 1, 0, 0],\n",
       "       [4, 1, 1, 0, 0, 0],\n",
       "       [0, 0, 0, 0, 0, 0],\n",
       "       [0, 0, 0, 0, 0, 0]])"
      ]
     },
     "execution_count": 214,
     "metadata": {
      "tags": []
     },
     "output_type": "execute_result"
    }
   ],
   "source": [
    "np.fill_diagonal(m, 0)#[0, 0, 2, 0,2 , 3])\n",
    "m.diagonal()\n",
    "m"
   ]
  },
  {
   "cell_type": "code",
   "execution_count": 161,
   "metadata": {
    "colab": {
     "base_uri": "https://localhost:8080/"
    },
    "id": "AvJh-pcZgZ9X",
    "outputId": "2dbd7cb8-9c2b-499f-e2cb-ebffa12a8016"
   },
   "outputs": [
    {
     "name": "stdout",
     "output_type": "stream",
     "text": [
      "[[0 1 0 1 0 1]\n",
      " [4 0 0 3 2 0]\n",
      " [3 1 3 1 1 0]\n",
      " [4 1 1 5 1 4]\n",
      " [0 0 0 0 0 0]\n",
      " [0 0 0 0 0 0]]\n",
      "[array([[0, 1, 0, 1, 0, 0],\n",
      "       [4, 0, 0, 3, 0, 0],\n",
      "       [3, 1, 3, 1, 1, 0],\n",
      "       [4, 1, 1, 5, 0, 0],\n",
      "       [0, 0, 0, 0, 0, 0],\n",
      "       [0, 0, 0, 0, 0, 0]])]\n",
      "[0 2 1 1 0 0]\n",
      "[1 0 0 4 0 0]\n",
      "dtrm[k][i]: 2\n",
      "mcki: 0\n",
      "mc: [[0 1 0 1 0 0]\n",
      " [4 0 0 3 2 0]\n",
      " [3 1 3 1 0 0]\n",
      " [4 1 1 5 0 0]\n",
      " [0 0 0 0 0 0]\n",
      " [0 0 0 0 0 0]]\n",
      "dtrm[k][i]: 1\n",
      "mcki: 0\n",
      "mc: [[0 1 0 1 0 0]\n",
      " [4 0 0 3 0 0]\n",
      " [3 1 3 1 1 0]\n",
      " [4 1 1 5 0 0]\n",
      " [0 0 0 0 0 0]\n",
      " [0 0 0 0 0 0]]\n",
      "dtrm[k][i]: 1\n",
      "mcki: 0\n",
      "mc: [[0 1 0 1 0 0]\n",
      " [4 0 0 3 0 0]\n",
      " [3 1 3 1 0 0]\n",
      " [4 1 1 5 1 0]\n",
      " [0 0 0 0 0 0]\n",
      " [0 0 0 0 0 0]]\n",
      "dtrm[k][i]: 1\n",
      "mcki: 0\n",
      "mc: [[0 1 0 1 0 1]\n",
      " [4 0 0 3 0 0]\n",
      " [3 1 3 1 0 0]\n",
      " [4 1 1 5 0 0]\n",
      " [0 0 0 0 0 0]\n",
      " [0 0 0 0 0 0]]\n",
      "dtrm[k][i]: 4\n",
      "mcki: 0\n",
      "mc: [[0 1 0 1 0 0]\n",
      " [4 0 0 3 0 0]\n",
      " [3 1 3 1 0 0]\n",
      " [4 1 1 5 0 4]\n",
      " [0 0 0 0 0 0]\n",
      " [0 0 0 0 0 0]]\n"
     ]
    }
   ],
   "source": [
    "\n",
    "m=np.array([\n",
    "[0,1,0,1,0,1],\n",
    "[4,0,0,3,2,0],\n",
    "[3,1,3,1,1,0],\n",
    "[4,1,1,5,1,4],\n",
    "[0,0,0,0,0,0],\n",
    "[0,0,0,0,0,0]])\n",
    "print(m)\n",
    "print(M)\n",
    "\n",
    "\n",
    "#for trm in term:\n",
    "\n",
    "# np.nonzero(m[:,2])[0]\n",
    "\n",
    "dtrm=dict()\n",
    "for trm in term:\n",
    "  trmd=np.nonzero(m[:,trm])[0]\n",
    "  if len(trmd)>1:\n",
    "    print(m[:,trm])\n",
    "    dtrm[trm]=deepcopy(m)[:,trm]\n",
    "    m[:,trm]=0\n",
    "\n",
    "M=[]\n",
    "if len(dtrm)>0:\n",
    "  for k in dtrm.keys():\n",
    "    for i in range(len(dtrm[k])):\n",
    "      if dtrm[k][i]>0:\n",
    "        mc=deepcopy(m)\n",
    "\n",
    "        #print(\"mcki:\",mc[k,i])\n",
    "        print(\"dtrm[k][i]:\",dtrm[k][i])\n",
    "        val=deepcopy(dtrm[k][i])\n",
    "        mc[:,k][i]=val\n",
    "        print(\"mcki:\",mc[k,i])\n",
    "        print(\"mc:\",mc)\n",
    "        M.append(mc)\n",
    "\n"
   ]
  },
  {
   "cell_type": "code",
   "execution_count": 170,
   "metadata": {
    "colab": {
     "base_uri": "https://localhost:8080/"
    },
    "id": "a3j9XEl7o-G-",
    "outputId": "5edeaee6-4399-4fcf-8e74-a49f5b7acf1e"
   },
   "outputs": [
    {
     "data": {
      "text/plain": [
       "array([[0, 1, 0, 1, 0, 0],\n",
       "       [4, 0, 0, 3, 0, 0],\n",
       "       [3, 1, 3, 1, 1, 0],\n",
       "       [4, 1, 1, 5, 0, 0],\n",
       "       [0, 0, 0, 0, 0, 0],\n",
       "       [0, 0, 0, 0, 0, 0]])"
      ]
     },
     "execution_count": 170,
     "metadata": {
      "tags": []
     },
     "output_type": "execute_result"
    }
   ],
   "source": [
    "# M[2][3,4]=1\n",
    "MM[1]\n",
    "#MM=deepcopy(M)\n",
    "#mc[0,1]=3\n"
   ]
  },
  {
   "cell_type": "code",
   "execution_count": 112,
   "metadata": {
    "colab": {
     "base_uri": "https://localhost:8080/"
    },
    "id": "ESI7pojqrIgh",
    "outputId": "b7a7edfc-512b-4a35-99d7-cc433c6bbc84"
   },
   "outputs": [
    {
     "data": {
      "text/plain": [
       "1"
      ]
     },
     "execution_count": 112,
     "metadata": {
      "tags": []
     },
     "output_type": "execute_result"
    }
   ],
   "source": [
    "mc[4,2]=1\n",
    "mc[4,2]"
   ]
  },
  {
   "cell_type": "code",
   "execution_count": 58,
   "metadata": {
    "colab": {
     "base_uri": "https://localhost:8080/"
    },
    "id": "1JpXnXSofvWt",
    "outputId": "f0300cff-acb1-4abb-ddf4-25b20acf6cd3"
   },
   "outputs": [
    {
     "data": {
      "text/plain": [
       "False"
      ]
     },
     "execution_count": 58,
     "metadata": {
      "tags": []
     },
     "output_type": "execute_result"
    }
   ],
   "source": [
    "2 in np.nonzero(m[0])[0]"
   ]
  },
  {
   "cell_type": "code",
   "execution_count": 198,
   "metadata": {
    "colab": {
     "base_uri": "https://localhost:8080/"
    },
    "id": "jbMVVDplTeiU",
    "outputId": "68520ac6-f482-4183-e49f-85e2be5126d2"
   },
   "outputs": [
    {
     "data": {
      "text/plain": [
       "[[array([0. , 0.5, 0. , 0.5, 0. , 0. ]),\n",
       "  array([0.44444444, 0.        , 0.        , 0.33333333, 0.22222222,\n",
       "         0.        ]),\n",
       "  array([0.6, 0.2, 0. , 0.2, 0. , 0. ]),\n",
       "  array([0.66666667, 0.16666667, 0.16666667, 0.        , 0.        ,\n",
       "         0.        ])],\n",
       " [array([0. , 0.5, 0. , 0.5, 0. , 0. ]),\n",
       "  array([0.57142857, 0.        , 0.        , 0.42857143, 0.        ,\n",
       "         0.        ]),\n",
       "  array([0.5       , 0.16666667, 0.        , 0.16666667, 0.16666667,\n",
       "         0.        ]),\n",
       "  array([0.66666667, 0.16666667, 0.16666667, 0.        , 0.        ,\n",
       "         0.        ])],\n",
       " [array([0. , 0.5, 0. , 0.5, 0. , 0. ]),\n",
       "  array([0.57142857, 0.        , 0.        , 0.42857143, 0.        ,\n",
       "         0.        ]),\n",
       "  array([0.6, 0.2, 0. , 0.2, 0. , 0. ]),\n",
       "  array([0.57142857, 0.14285714, 0.14285714, 0.        , 0.14285714,\n",
       "         0.        ])],\n",
       " [array([0.        , 0.33333333, 0.        , 0.33333333, 0.        ,\n",
       "         0.33333333]),\n",
       "  array([0.57142857, 0.        , 0.        , 0.42857143, 0.        ,\n",
       "         0.        ]),\n",
       "  array([0.6, 0.2, 0. , 0.2, 0. , 0. ]),\n",
       "  array([0.66666667, 0.16666667, 0.16666667, 0.        , 0.        ,\n",
       "         0.        ])],\n",
       " [array([0. , 0.5, 0. , 0.5, 0. , 0. ]),\n",
       "  array([0.57142857, 0.        , 0.        , 0.42857143, 0.        ,\n",
       "         0.        ]),\n",
       "  array([0.6, 0.2, 0. , 0.2, 0. , 0. ]),\n",
       "  array([0.4, 0.1, 0.1, 0. , 0. , 0.4])],\n",
       " [array([0. , 0.5, 0. , 0.5, 0. , 0. ]),\n",
       "  array([0.57142857, 0.        , 0.        , 0.42857143, 0.        ,\n",
       "         0.        ]),\n",
       "  array([0.6, 0.2, 0. , 0.2, 0. , 0. ]),\n",
       "  array([0.66666667, 0.16666667, 0.16666667, 0.        , 0.        ,\n",
       "         0.        ])],\n",
       " [array([0. , 0.5, 0. , 0.5, 0. , 0. ]),\n",
       "  array([0.57142857, 0.        , 0.        , 0.42857143, 0.        ,\n",
       "         0.        ]),\n",
       "  array([0.6, 0.2, 0. , 0.2, 0. , 0. ]),\n",
       "  array([0.66666667, 0.16666667, 0.16666667, 0.        , 0.        ,\n",
       "         0.        ])],\n",
       " [array([0. , 0.5, 0. , 0.5, 0. , 0. ]),\n",
       "  array([0.57142857, 0.        , 0.        , 0.42857143, 0.        ,\n",
       "         0.        ]),\n",
       "  array([0.6, 0.2, 0. , 0.2, 0. , 0. ]),\n",
       "  array([0.66666667, 0.16666667, 0.16666667, 0.        , 0.        ,\n",
       "         0.        ])]]"
      ]
     },
     "execution_count": 198,
     "metadata": {
      "tags": []
     },
     "output_type": "execute_result"
    }
   ],
   "source": [
    "Mprob=[]\n",
    "\n",
    "for m in M:\n",
    "  Mprob.append([m[i]/np.sum(m,axis=1)[i] for i in nonterm])\n",
    "Mprob\n",
    "\n",
    "mprob=[m[i]/np.sum(m,axis=1)[i] for i in nonterm]\n",
    "Mprob"
   ]
  },
  {
   "cell_type": "code",
   "execution_count": 11,
   "metadata": {
    "colab": {
     "base_uri": "https://localhost:8080/",
     "height": 231
    },
    "id": "DoVlqHUqSP_G",
    "outputId": "bab38cbb-af72-4b46-cc15-5a64fde18542"
   },
   "outputs": [
    {
     "data": {
      "text/plain": [
       "[[4, 1, 0], [4, 2, 3, 0], [4, 3, 0], [5, 0]]"
      ]
     },
     "execution_count": 11,
     "metadata": {},
     "output_type": "execute_result"
    }
   ],
   "source": [
    "roots"
   ]
  },
  {
   "cell_type": "code",
   "execution_count": 10,
   "metadata": {
    "colab": {
     "base_uri": "https://localhost:8080/"
    },
    "id": "DeTeCtJN2yhd",
    "outputId": "35b8fe88-d6af-4ad3-b870-3f3eba7f6b7a"
   },
   "outputs": [
    {
     "data": {
      "text/plain": [
       "array([[0, 1, 0, 1, 0, 1],\n",
       "       [4, 0, 0, 3, 0, 0],\n",
       "       [3, 1, 3, 1, 0, 0],\n",
       "       [4, 1, 1, 5, 0, 0],\n",
       "       [0, 0, 0, 0, 0, 0],\n",
       "       [0, 0, 0, 0, 0, 0]])"
      ]
     },
     "execution_count": 10,
     "metadata": {},
     "output_type": "execute_result"
    }
   ],
   "source": [
    "m"
   ]
  },
  {
   "cell_type": "code",
   "execution_count": 37,
   "metadata": {
    "colab": {
     "base_uri": "https://localhost:8080/"
    },
    "id": "2cwPosYLVNgd",
    "outputId": "13b9360f-6138-4eef-87d8-30177bf5bbfa"
   },
   "outputs": [
    {
     "name": "stdout",
     "output_type": "stream",
     "text": [
      "Path: \n",
      "[1,3] \n",
      "0.3333333333333333\n",
      "[0,1] \n",
      "0.5\n",
      "\n",
      "Path: \n",
      "[1,4] \n",
      "0.2222222222222222\n",
      "[0,1] \n",
      "0.5\n",
      "\n",
      "Path: \n",
      "[0,5] \n",
      "0.5\n",
      "\n"
     ]
    }
   ],
   "source": [
    "# m=np.array([\n",
    "            \n",
    "# [0,1,0,1,0,1],\n",
    "# [4,0,0,3,2,0],\n",
    "# [3,1,0,1,1,0],\n",
    "# [4,1,1,0,1,4],\n",
    "# [0,0,0,0,0,0],\n",
    "# [0,0,0,0,0,0]\n",
    "\n",
    "# ])\n",
    "m=m0\n",
    "mprob=[m[i]/np.sum(m,axis=1)[i] for i in nonterm]\n",
    "\n",
    "# Get root probs\n",
    "\n",
    "roots[0]\n",
    "\n",
    "probs=[]\n",
    "for root in roots:\n",
    "  prob=[]\n",
    "  print(\"Path: \")\n",
    "  for i in range(len(root)-1):\n",
    "    print(\"[{},{}] \".format(root[i+1],root[i]) )\n",
    "    prob.append(mprob[root[i+1]][root[i]])\n",
    "    print(mprob[root[i+1]][root[i]])\n",
    "  print()\n",
    "  probs.append(prob)\n"
   ]
  },
  {
   "cell_type": "code",
   "execution_count": 38,
   "metadata": {
    "colab": {
     "base_uri": "https://localhost:8080/"
    },
    "id": "jhmV7E4blZQb",
    "outputId": "fd8d0d1f-caba-490b-8260-7fe28be36530"
   },
   "outputs": [
    {
     "name": "stdout",
     "output_type": "stream",
     "text": [
      "probs:  [[0.3333333333333333, 0.5], [0.2222222222222222, 0.5], [0.5]]\n",
      "roots:  [[3, 1, 0], [4, 1, 0], [5, 0]]\n",
      "cycles:  [(0, 1)]\n"
     ]
    }
   ],
   "source": [
    "print(\"probs: \",probs)\n",
    "print(\"roots: \",roots)\n",
    "print(\"cycles: \",cycles)\n",
    "\n",
    "\n",
    "#sumRepProb(mprob[0][0]*mprob[0][1])\n",
    "\n"
   ]
  },
  {
   "cell_type": "code",
   "execution_count": 38,
   "metadata": {
    "id": "hcm-u5o7MuE3"
   },
   "outputs": [],
   "source": [
    "cs=[]\n",
    "q=[]\n",
    "for r in roots[2]:\n",
    "  if r in nonterm and r!=0:\n",
    "    for c in cycles:\n",
    "      if r in c and 0 not in c:\n",
    "        cs.append(c)\n",
    "        if r==c[0] and c[1]!=0:\n",
    "          q.append(c[1])\n",
    "        elif c[0]!=0:\n",
    "          q.append(c[0])\n",
    "\n",
    "if 0 in q:\n",
    "  q.remove(0)\n"
   ]
  },
  {
   "cell_type": "code",
   "execution_count": 39,
   "metadata": {
    "colab": {
     "base_uri": "https://localhost:8080/"
    },
    "id": "qu9FSBVbd-LB",
    "outputId": "1ad3e129-d7b8-44dc-a4bd-e894bc8969c7"
   },
   "outputs": [
    {
     "data": {
      "text/plain": [
       "[]"
      ]
     },
     "execution_count": 39,
     "metadata": {
      "tags": []
     },
     "output_type": "execute_result"
    }
   ],
   "source": [
    "cs"
   ]
  },
  {
   "cell_type": "code",
   "execution_count": 32,
   "metadata": {
    "id": "3uZsBHLiNXUs"
   },
   "outputs": [],
   "source": [
    "qpl=[]\n",
    "while len(q)>0:\n",
    "  qp=q.pop()\n",
    "  \n",
    "  for c in cycles:\n",
    "    if qp in c and 0 not in c:\n",
    "      cs.append(c)\n",
    "      if qp==c[0] and c[1]!=0 and c[1] not in qpl:\n",
    "        q.append(c[1])\n",
    "      elif c[0]!=0 and c[0] not in qpl:\n",
    "        q.append(c[0])\n",
    "      qpl.append(qp)\n"
   ]
  },
  {
   "cell_type": "code",
   "execution_count": 34,
   "metadata": {
    "colab": {
     "base_uri": "https://localhost:8080/"
    },
    "id": "prB0HKh9eYwh",
    "outputId": "f1a1d730-d119-4fc3-f4dc-43804236a8a3"
   },
   "outputs": [
    {
     "data": {
      "text/plain": [
       "{(1, 1), (1, 2), (1, 3), (2, 2), (2, 3), (3, 3)}"
      ]
     },
     "execution_count": 34,
     "metadata": {
      "tags": []
     },
     "output_type": "execute_result"
    }
   ],
   "source": [
    "set(cs)"
   ]
  },
  {
   "cell_type": "code",
   "execution_count": 10,
   "metadata": {
    "colab": {
     "base_uri": "https://localhost:8080/"
    },
    "id": "FnOstUnEOsH7",
    "outputId": "3a8f21e7-ae6a-4cc8-fbc2-bcf6e4a29fbd"
   },
   "outputs": [
    {
     "data": {
      "text/plain": [
       "{(1, 1), (1, 2), (1, 3), (2, 2), (2, 3), (3, 3)}"
      ]
     },
     "execution_count": 10,
     "metadata": {
      "tags": []
     },
     "output_type": "execute_result"
    }
   ],
   "source": [
    "set(cs )\n",
    "\n",
    "# qp\n",
    "# for c in cycles:\n",
    "#   if qp in c:\n",
    "#     print(c)\n"
   ]
  },
  {
   "cell_type": "code",
   "execution_count": 26,
   "metadata": {
    "id": "tCuiC7WKc7rH"
   },
   "outputs": [],
   "source": [
    "def getCyclePath1(root, nonterm, cycles):\n",
    "  cs=[]\n",
    "  q=[]\n",
    "  for r in root:\n",
    "    if r in nonterm and r!=0:\n",
    "      for c in cycles:\n",
    "        if r in c and 0 not in c:\n",
    "          cs.append(c)\n",
    "          if r==c[0] and c[1]!=0:\n",
    "            q.append(c[1])\n",
    "          elif c[0]!=0:\n",
    "            q.append(c[0])\n",
    "\n",
    "  if 0 in q:\n",
    "    q.remove(0)\n",
    "  return q,cs\n"
   ]
  },
  {
   "cell_type": "code",
   "execution_count": 27,
   "metadata": {
    "id": "FgdLsENEdjji"
   },
   "outputs": [],
   "source": [
    "def getCyclePath2(q,cs,cycles):\n",
    "  \n",
    "  qpl=[]\n",
    "  while len(q)>0:\n",
    "    # print('lenq:',len(q))\n",
    "    qp=q.pop()\n",
    "    # print('qp:',qp)\n",
    "    for c in cycles:\n",
    "      \n",
    "      if qp in c and 0 not in c:\n",
    "        cs.append(c)\n",
    "        if qp==c[0] and c[1]!=0 and c[1] not in qpl:\n",
    "          q.append(c[1])\n",
    "        elif c[0]!=0 and c[0] not in qpl:\n",
    "          q.append(c[0])\n",
    "        qpl.append(qp)\n",
    "  return set(cs)"
   ]
  },
  {
   "cell_type": "code",
   "execution_count": 43,
   "metadata": {
    "colab": {
     "base_uri": "https://localhost:8080/"
    },
    "id": "5Oic-kwSdjlw",
    "outputId": "d573e10a-506f-4ccc-c4d8-a8aa6148785b"
   },
   "outputs": [
    {
     "data": {
      "text/plain": [
       "[(0, 1)]"
      ]
     },
     "execution_count": 43,
     "metadata": {},
     "output_type": "execute_result"
    }
   ],
   "source": [
    "cycles\n",
    "\n"
   ]
  },
  {
   "cell_type": "code",
   "execution_count": 42,
   "metadata": {
    "colab": {
     "base_uri": "https://localhost:8080/"
    },
    "id": "jyLtkktIEdDz",
    "outputId": "e2499e02-5f97-46b0-d9c6-272adc75cb52"
   },
   "outputs": [
    {
     "data": {
      "text/plain": [
       "[[3, 1, 0], [4, 1, 0], [5, 0]]"
      ]
     },
     "execution_count": 42,
     "metadata": {},
     "output_type": "execute_result"
    }
   ],
   "source": [
    "roots"
   ]
  },
  {
   "cell_type": "code",
   "execution_count": 44,
   "metadata": {
    "colab": {
     "base_uri": "https://localhost:8080/"
    },
    "id": "9zFzHmoydjn9",
    "outputId": "f6ce8bc5-9bb0-4a1e-ed82-9953dd323871"
   },
   "outputs": [
    {
     "data": {
      "text/plain": [
       "([], [])"
      ]
     },
     "execution_count": 44,
     "metadata": {},
     "output_type": "execute_result"
    }
   ],
   "source": [
    "getCyclePath1(roots[0], nonterm, cycles)"
   ]
  },
  {
   "cell_type": "code",
   "execution_count": 47,
   "metadata": {
    "colab": {
     "base_uri": "https://localhost:8080/"
    },
    "id": "q1HoCYfEc7tY",
    "outputId": "3c66054c-d641-448e-b87e-28f2ed1d9c7d"
   },
   "outputs": [
    {
     "data": {
      "text/plain": [
       "set()"
      ]
     },
     "execution_count": 47,
     "metadata": {},
     "output_type": "execute_result"
    }
   ],
   "source": [
    "gcp1=getCyclePath1(roots[2], nonterm, cycles)\n",
    "# print(gcp1)\n",
    "# print(deepcopy(gcp1[0]))\n",
    "getCyclePath2(gcp1[0],gcp1[1],cycles)\n",
    "\n"
   ]
  },
  {
   "cell_type": "code",
   "execution_count": 233,
   "metadata": {
    "colab": {
     "base_uri": "https://localhost:8080/"
    },
    "id": "lmXUnR_Ec7v6",
    "outputId": "ab72fb69-429c-4637-da0c-960abee2007f"
   },
   "outputs": [
    {
     "data": {
      "text/plain": [
       "[(0, 1), (0, 3), (1, 3), (2, 3), (1, 1), (2, 2), (3, 3)]"
      ]
     },
     "execution_count": 233,
     "metadata": {
      "tags": []
     },
     "output_type": "execute_result"
    }
   ],
   "source": [
    "cycles"
   ]
  },
  {
   "cell_type": "code",
   "execution_count": null,
   "metadata": {
    "colab": {
     "base_uri": "https://localhost:8080/"
    },
    "id": "LT9rMxb96HFE",
    "outputId": "9cb82cdf-7c53-4316-d75f-4c6f85bbc70d"
   },
   "outputs": [
    {
     "data": {
      "text/plain": [
       "[(1, 2), (1, 3), (2, 3)]"
      ]
     },
     "execution_count": 501,
     "metadata": {
      "tags": []
     },
     "output_type": "execute_result"
    }
   ],
   "source": [
    "cs=[]\n",
    "for r in roots[0]:\n",
    "  for c in set(cycles):\n",
    "    if r in c and c not in cs and 0 not in c and r not in term:\n",
    "      cs.append(c)\n",
    "    \n",
    "\n",
    "#list(cs)\n",
    "cs\n",
    "#tuple(sum(cs, [])) \n",
    "a=0\n",
    "\n",
    "# while sdiff(cs, roots)!=-1:\n",
    "  \n",
    "#   cs.append(np.unique([e for l in cs for e in l]),roots)\n",
    "\n",
    "roots\n",
    "c0=[]\n",
    "cyc=deepcopy(cycles)\n",
    "for c in cycles:\n",
    "  if 0 in c:\n",
    "    c0.append(c)\n",
    "    cyc.remove(c)\n",
    "np.setdiff1d(cycles,c0)\n",
    "cycles\n",
    "\n",
    "set(c0).intersection(set(cycles))\n",
    "\n",
    "\n",
    "cyc"
   ]
  },
  {
   "cell_type": "code",
   "execution_count": null,
   "metadata": {
    "colab": {
     "base_uri": "https://localhost:8080/"
    },
    "id": "8p5oiw0QLhtt",
    "outputId": "7a33fd44-3825-4df1-a88f-bffb16dee3e2"
   },
   "outputs": [
    {
     "data": {
      "text/plain": [
       "[(1, 2), (1, 3), (2, 3)]"
      ]
     },
     "execution_count": 504,
     "metadata": {
      "tags": []
     },
     "output_type": "execute_result"
    }
   ],
   "source": [
    "cycles\n",
    "# 0,1 -- > 1,2 --> 1,3 -- > 2,3\n",
    "\n",
    "\n"
   ]
  },
  {
   "cell_type": "code",
   "execution_count": null,
   "metadata": {
    "colab": {
     "base_uri": "https://localhost:8080/"
    },
    "id": "_KUDxJBfMf9s",
    "outputId": "2a96a66c-86f1-401a-b113-19d5b98755f2"
   },
   "outputs": [
    {
     "data": {
      "text/plain": [
       "[(1, 2), (1, 3), (2, 3)]"
      ]
     },
     "execution_count": 505,
     "metadata": {
      "tags": []
     },
     "output_type": "execute_result"
    }
   ],
   "source": [
    "cyc\n"
   ]
  },
  {
   "cell_type": "code",
   "execution_count": null,
   "metadata": {
    "id": "P1HL-gpC7BCP"
   },
   "outputs": [],
   "source": [
    "def sdiff(cs,roots):\n",
    "  a=np.setdiff1d(np.unique([e for l in cs for e in l]),roots[0])\n",
    "  if len(a)>0:\n",
    "    return a\n",
    "  return -1"
   ]
  },
  {
   "cell_type": "code",
   "execution_count": null,
   "metadata": {
    "colab": {
     "base_uri": "https://localhost:8080/"
    },
    "id": "CvQ7MmKDMR4R",
    "outputId": "94826717-5699-45e5-b3af-54456bb670c4"
   },
   "outputs": [
    {
     "name": "stdout",
     "output_type": "stream",
     "text": [
      "\n"
     ]
    },
    {
     "data": {
      "text/plain": [
       "[(0, 0), (1, 1), (4, 5), (2, 2), (2, 4)]"
      ]
     },
     "execution_count": 442,
     "metadata": {
      "tags": []
     },
     "output_type": "execute_result"
    }
   ],
   "source": [
    "# # # Get cycle chains\n",
    "# for cycle in cycles:\n",
    "#   print (cycle)\n",
    "\n",
    "# for i in nonterm:\n",
    "#   for cycle in cycles:\n",
    "#     if \n",
    "\n",
    "def checkcyc(cycles,n):\n",
    "  \n",
    "  # for c in cycles:\n",
    "  #   print(c)\n",
    "    if n in cycles:\n",
    "      return c\n",
    "      \n",
    "\n",
    "    return -1\n",
    "\n",
    "print()\n",
    "\n",
    "\n",
    "cyc=deepcopy(cycles)\n",
    "\n",
    "cyc=[(0,0),(0,1),(1,1),(1,4),(4,5),(2,2),(2,4)]\n",
    "# ff=[]\n",
    "# f=0\n",
    "# for i in nonterm:\n",
    "#   while f != -1:\n",
    "#     f=checktup(i,cyc)\n",
    "#     ff.append(f)\n",
    "\n",
    "\n",
    "\n",
    "\n",
    "\n",
    "\n",
    "\n",
    "\n",
    "# for c in cyc:\n",
    "#   if c != (0,0):\n",
    "#     l.append(c)\n",
    "#     break\n",
    "\n",
    "\n",
    "\n",
    "# l=[]\n",
    "# for i in nonterm:\n",
    "\n",
    "\n",
    "\n",
    "\n",
    "#   for c in cyc:\n",
    "\n",
    "#     if i in c:\n",
    "#       l.append(c)\n",
    "#       if l and l[-1][1] in c:\n",
    "#         if l[-1] != c:\n",
    "#           l.append(c)\n",
    "\n",
    "# l\n",
    "\n",
    "# z=0\n",
    "# l2=[]\n",
    "# for i in nonterm:\n",
    "#   l=[]\n",
    "#   print(i)\n",
    "#   while n!=-1:\n",
    "#     if i>0:\n",
    "#       z=checkcyc(cycles,i)\n",
    "#       print(z)\n",
    "#       l.append(z)\n",
    "#   l2.append(l)\n",
    "\n",
    "    \n",
    "\n",
    "\n",
    "\n",
    "# def hasInd(m,nonterm, state):\n",
    "#   for i in nonterm:\n",
    "    \n",
    "#     if state in np.nonzero(m[i])[0]:\n",
    "#       return i\n",
    "#   return -1\n",
    "\n",
    "\n",
    "# for c in cycles:\n",
    "#   print (c)\n",
    "\n",
    "# # for i in nonterm:\n",
    "# #   if i in \n",
    "# cycles\n",
    "\n",
    "\n",
    "\n",
    "\n",
    "\n",
    "\n",
    "\n",
    "\n",
    "# def cycc(cyc,n):\n",
    "#   for c in cyc:\n",
    "#     if n in c:\n",
    "#       return c\n",
    "#   return -1\n",
    "# n=1\n",
    "# cycc(cycles[n:],n)\n",
    "\n",
    "# for i in nonterm:\n",
    "#   #print(cycles[i:])\n",
    "#   for c in cycles[i:]:\n",
    "#     cyc=deepcopy(cycles)\n",
    "    \n",
    "#     if cyc.pop()[1] in c:\n",
    "#       print(c)\n",
    "  \n",
    "cycles\n",
    "\n",
    "\n",
    "# for c in cycles:\n",
    "\n",
    "#   print(c)\n",
    "# cyc=deepcopy(cycles)\n",
    "# l=[]\n",
    "# for i in range(len(cyc)-1):\n",
    "#   if cyc[i][1]==cyc[i+1][0]:\n",
    "# #     l.append(cyc[i+1])\n",
    "\n",
    "# while cyc:\n",
    "#   cx=[cyc.pop()]\n",
    "#   for c in cyc:\n",
    "#     if cx[-1][0] in c or cx[-1][1] in c:\n",
    "#       cx.append(c)\n",
    "#       print('c:',c)\n",
    "for c in cyc:\n",
    "  if  in c:\n",
    "    cyc.remove(c)\n",
    "cyc"
   ]
  },
  {
   "cell_type": "code",
   "execution_count": null,
   "metadata": {
    "colab": {
     "base_uri": "https://localhost:8080/"
    },
    "id": "igam9jYAtfO3",
    "outputId": "10dc5184-0730-4d17-c5ba-5f3fdf271de3"
   },
   "outputs": [
    {
     "data": {
      "text/plain": [
       "[(0, 1), (1, 1), (1, 4), (4, 5), (2, 2), (2, 4)]"
      ]
     },
     "execution_count": 441,
     "metadata": {
      "tags": []
     },
     "output_type": "execute_result"
    }
   ],
   "source": [
    "cyc"
   ]
  },
  {
   "cell_type": "code",
   "execution_count": null,
   "metadata": {
    "colab": {
     "base_uri": "https://localhost:8080/"
    },
    "id": "WO1T0PrNXwEH",
    "outputId": "a6c88b34-41de-47e1-ad21-14756fd2fc7b"
   },
   "outputs": [
    {
     "data": {
      "text/plain": [
       "(0, 1)"
      ]
     },
     "execution_count": 407,
     "metadata": {
      "tags": []
     },
     "output_type": "execute_result"
    }
   ],
   "source": [
    "def matchtup(cycles,a,b):\n",
    "  for c in cycles:\n",
    "    \n",
    "    if a in c or b in c and (c != (a,b) and c!= (b,a) and c!=(0,0)):\n",
    "      return c\n",
    "  return -1\n",
    "\n",
    "t=cycles[2]\n",
    "t=matchtup(cycles[1:], t[0],t[1])\n",
    "\n",
    "t"
   ]
  },
  {
   "cell_type": "code",
   "execution_count": null,
   "metadata": {
    "colab": {
     "base_uri": "https://localhost:8080/"
    },
    "id": "8ZtcjKpkbaHR",
    "outputId": "3ae50ee8-c5f2-4564-95bd-4ee0bbcf368c"
   },
   "outputs": [
    {
     "name": "stdout",
     "output_type": "stream",
     "text": [
      "[[2 1 3 0 0 1]\n",
      " [4 0 0 3 2 0]\n",
      " [0 1 3 1 0 0]\n",
      " [0 1 0 0 1 0]\n",
      " [0 0 0 0 0 0]\n",
      " [0 0 0 0 0 0]]\n",
      "{4: [1, 3], 5: [0]}\n",
      "M:  [array([[2, 1, 3, 0, 0, 1],\n",
      "       [4, 0, 0, 3, 0, 0],\n",
      "       [0, 1, 3, 1, 0, 0],\n",
      "       [0, 1, 0, 0, 1, 0],\n",
      "       [0, 0, 0, 0, 0, 0],\n",
      "       [0, 0, 0, 0, 0, 0]]), array([[2, 1, 3, 0, 0, 1],\n",
      "       [4, 0, 0, 3, 2, 0],\n",
      "       [0, 1, 3, 1, 0, 0],\n",
      "       [0, 1, 0, 0, 0, 0],\n",
      "       [0, 0, 0, 0, 0, 0],\n",
      "       [0, 0, 0, 0, 0, 0]])]\n",
      "[4 5]\n"
     ]
    },
    {
     "data": {
      "text/plain": [
       "[array([0.28571429, 0.14285714, 0.42857143, 0.        , 0.        ,\n",
       "        0.14285714]),\n",
       " array([0.44444444, 0.        , 0.        , 0.33333333, 0.22222222,\n",
       "        0.        ]),\n",
       " array([0. , 0.2, 0.6, 0.2, 0. , 0. ]),\n",
       " array([0. , 0.5, 0. , 0. , 0.5, 0. ])]"
      ]
     },
     "execution_count": 247,
     "metadata": {
      "tags": []
     },
     "output_type": "execute_result"
    }
   ],
   "source": [
    "print(m)\n",
    "print(dm2)\n",
    "print(\"M: \",M)\n",
    "print(term)\n",
    "\n",
    "\n",
    "\n",
    "mprob\n",
    "\n",
    "m[0]\n",
    "np.sum(m,axis=1)[3]\n",
    "[m[i]/np.sum(m,axis=1)[i] for i in nonterm]"
   ]
  },
  {
   "cell_type": "code",
   "execution_count": null,
   "metadata": {
    "colab": {
     "base_uri": "https://localhost:8080/"
    },
    "id": "XBrZ8MX-g_kI",
    "outputId": "e196805c-dca5-4df8-e575-81547c6966e5"
   },
   "outputs": [
    {
     "data": {
      "text/plain": [
       "array([[2, 1, 3, 0, 0, 1],\n",
       "       [4, 0, 0, 3, 2, 0],\n",
       "       [0, 1, 3, 1, 0, 0],\n",
       "       [0, 1, 0, 0, 1, 0],\n",
       "       [0, 0, 0, 0, 0, 0],\n",
       "       [0, 0, 0, 0, 0, 0]])"
      ]
     },
     "execution_count": 172,
     "metadata": {
      "tags": []
     },
     "output_type": "execute_result"
    }
   ],
   "source": [
    "m=np.array([\n",
    "[2,1,3,0,0,1],\n",
    "[4,0,0,3,2,0],\n",
    "[0,1,3,1,0,0],\n",
    "[0,1,0,0,1,0],\n",
    "[0,0,0,0,0,0],\n",
    "[0,0,0,0,0,0]])\n",
    "# prepare dict\n",
    "dm2=dict()\n",
    "for t in term:\n",
    "  #print(t,':\\t',np.count_nonzero(np.nonzero(m)[1] == t))\n",
    " # dm[t]=np.count_nonzero(np.nonzero(m)[1] == t)\n",
    "  for rowi in range(len(m)):\n",
    "    if m[rowi][t] >0:\n",
    "      dm2.setdefault(t, []).append(rowi)\n",
    "      #dm2[t].append(rowi)\n",
    "M=[]\n",
    "for k in dm2.keys():\n",
    "  if len(dm2[k])>1:\n",
    "    for v in dm2[k]:\n",
    "      mx=deepcopy(m)\n",
    "      #print(mx[v][k])\n",
    "      mx[v][k]=0\n",
    "\n",
    "      M.append(mx)\n",
    "if len(M)<2:\n",
    "  M=[m]\n",
    "M\n",
    "m\n",
    "# m=np.array([\n",
    "# [2,1,3,0,0,1],\n",
    "# [4,0,0,3,2,0],\n",
    "# [0,1,3,1,0,0],\n",
    "# [0,1,0,0,1,0],\n",
    "# [0,0,0,0,0,0],\n",
    "# [0,0,0,0,0,0]])\n",
    "m"
   ]
  },
  {
   "cell_type": "code",
   "execution_count": 48,
   "metadata": {
    "colab": {
     "base_uri": "https://localhost:8080/"
    },
    "id": "2F0Q-qTJn1kh",
    "outputId": "53c84016-5567-44b4-a3c7-3a150e38bdae"
   },
   "outputs": [
    {
     "name": "stderr",
     "output_type": "stream",
     "text": [
      "c:\\users\\roy\\anaconda3\\envs\\tensorflow_2.x.2\\lib\\site-packages\\ipykernel_launcher.py:2: DeprecationWarning: fractions.gcd() is deprecated. Use math.gcd() instead.\n",
      "  \n"
     ]
    }
   ],
   "source": [
    "from fractions import gcd\n",
    "gcd(1/7,2/14)\n",
    "def lcm(a, b):\n",
    "    return abs(a*b) // math.gcd(a, b)"
   ]
  },
  {
   "cell_type": "code",
   "execution_count": null,
   "metadata": {
    "colab": {
     "base_uri": "https://localhost:8080/"
    },
    "id": "jln9chFIojoj",
    "outputId": "17744815-c658-4faf-dd9a-22b107981374"
   },
   "outputs": [
    {
     "name": "stdout",
     "output_type": "stream",
     "text": [
      "1\n",
      "2\n",
      "1\n"
     ]
    }
   ],
   "source": [
    "import math\n",
    "# lcm(7,14)\n",
    "\n",
    "\n",
    "# 3/14; 1/7; 9/14\n",
    "# l=[14,7,14]\n",
    "# for n in range(len(l)-1):\n",
    "#   print(lcm(l[n-1],l[n]))\n",
    "c=np.unique(np.lcm.reduce(l))\n",
    "for i in l:\n",
    "  print(int(c[0]/i))"
   ]
  },
  {
   "cell_type": "code",
   "execution_count": null,
   "metadata": {
    "id": "QidaWTvKL048"
   },
   "outputs": [],
   "source": [
    "l=[]\n",
    "l.append(1)"
   ]
  },
  {
   "cell_type": "code",
   "execution_count": null,
   "metadata": {
    "id": "r14jdvCXL3xt"
   },
   "outputs": [],
   "source": [
    "l.append(2)"
   ]
  },
  {
   "cell_type": "code",
   "execution_count": null,
   "metadata": {
    "colab": {
     "base_uri": "https://localhost:8080/"
    },
    "id": "J4LRGp_KL8Ln",
    "outputId": "52fd70fa-35bc-4f6a-c8f6-3b64ae061015"
   },
   "outputs": [
    {
     "data": {
      "text/plain": [
       "[1, 2]"
      ]
     },
     "execution_count": 4,
     "metadata": {
      "tags": []
     },
     "output_type": "execute_result"
    }
   ],
   "source": [
    "l"
   ]
  },
  {
   "cell_type": "code",
   "execution_count": null,
   "metadata": {
    "colab": {
     "base_uri": "https://localhost:8080/"
    },
    "id": "MGLBCa12L9Gi",
    "outputId": "b357c10a-540e-4f50-ef7a-fbb3f06bb8d5"
   },
   "outputs": [
    {
     "data": {
      "text/plain": [
       "2"
      ]
     },
     "execution_count": 5,
     "metadata": {
      "tags": []
     },
     "output_type": "execute_result"
    }
   ],
   "source": []
  }
 ],
 "metadata": {
  "colab": {
   "collapsed_sections": [],
   "name": "Doomsday Fuel.ipynb",
   "provenance": []
  },
  "kernelspec": {
   "display_name": "Python 3",
   "language": "python",
   "name": "python3"
  },
  "language_info": {
   "codemirror_mode": {
    "name": "ipython",
    "version": 3
   },
   "file_extension": ".py",
   "mimetype": "text/x-python",
   "name": "python",
   "nbconvert_exporter": "python",
   "pygments_lexer": "ipython3",
   "version": "3.7.0"
  }
 },
 "nbformat": 4,
 "nbformat_minor": 1
}
