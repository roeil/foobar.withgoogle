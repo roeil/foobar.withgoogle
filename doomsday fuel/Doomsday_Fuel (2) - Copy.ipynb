{
 "cells": [
  {
   "cell_type": "markdown",
   "metadata": {
    "id": "C-TVPws6Y_Rq"
   },
   "source": [
    "Making fuel for the LAMBCHOP's reactor core is a tricky process because of the exotic matter involved. It starts as raw ore, then during processing, begins randomly changing between forms, eventually reaching a stable form. There may be multiple stable forms that a sample could ultimately reach, not all of which are useful as fuel. \n",
    "\n",
    "Commander Lambda has tasked you to help the scientists increase fuel creation efficiency by predicting the end state of a given ore sample. You have carefully studied the different structures that the ore can take and which transitions it undergoes. It appears that, while random, the probability of each structure transforming is fixed. That is, each time the ore is in 1 state, it has the same probabilities of entering the next state (which might be the same state).  You have recorded the observed transitions in a matrix. The others in the lab have hypothesized more exotic forms that the ore can become, but you haven't seen all of them.\n",
    "\n",
    "Write a function solution(m) that takes an array of array of nonnegative ints representing how many times that state has gone to the next state and return an array of ints for each terminal state giving the exact probabilities of each terminal state, represented as the numerator for each state, then the denominator for all of them at the end and in simplest form. The matrix is at most 10 by 10. It is guaranteed that no matter which state the ore is in, there is a path from that state to a terminal state. That is, the processing will always eventually end in a stable state. The ore starts in state 0. The denominator will fit within a signed 32-bit integer during the calculation, as long as the fraction is simplified regularly. \n",
    "\n",
    "\n",
    "\n",
    "For example, consider the matrix m:\n",
    "\n",
    "[\n",
    "  \n",
    "`  [0,1,0,0,0,1] `,  # s0, the initial state, goes to s1 and s5 with equal probability\n",
    "\n",
    " ` [4,0,0,3,2,0] `,  # s1 can become s0, s3, or s4, but with different \n",
    "  probabilities\n",
    "  \n",
    " ` [0,0,0,0,0,0]`,  # s2 is terminal, and unreachable (never observed in practice)\n",
    "\n",
    " ` [0,0,0,0,0,0]`,  # s3 is terminal\n",
    "\n",
    " ` [0,0,0,0,0,0]`,  # s4 is terminal\n",
    "\n",
    " ` [0,0,0,0,0,0]`,  # s5 is terminal\n",
    "\n",
    "]\n",
    "\n",
    "\n",
    "So, we can consider different paths to terminal states, such as:\n",
    "\n",
    "\n",
    "s0 -> s1 -> s3\n",
    "\n",
    "s0 -> s1 -> s0 -> s1 -> s0 -> s1 -> s4\n",
    "\n",
    "s0 -> s1 -> s0 -> s5\n",
    "\n",
    "Tracing the probabilities of each, we find that\n",
    "\n",
    "s2 has probability 0\n",
    "\n",
    "s3 has probability 3/14\n",
    "\n",
    "s4 has probability 1/7\n",
    "\n",
    "s5 has probability 9/14\n",
    "\n",
    "So, putting that together, and making a common denominator, gives an answer in the form of\n",
    "[s2.numerator, s3.numerator, s4.numerator, s5.numerator, denominator] which is\n",
    "\n",
    "` [0, 3, 2, 9, 14]. `\n",
    "\n",
    "Languages\n",
    "=========\n",
    "\n",
    "To provide a Java solution, edit Solution.java\n",
    "To provide a Python solution, edit solution.py\n",
    "\n",
    "Test cases\n",
    "==========\n",
    "Your code should pass the following test cases.\n",
    "Note that it may also be run against hidden test cases not shown here.\n",
    "\n",
    "---\n",
    "\n",
    "-- Java cases --\n",
    "\n",
    "---\n",
    "- Input:\n",
    "\n",
    "` Solution.solution(  {{0, 2, 1, 0, 0}, {0, 0, 0, 3, 4}, {0, 0, 0, 0, 0}, {0, 0, 0, 0,0}, {0, 0, 0, 0, 0}}          ) `\n",
    "\n",
    "\n",
    "\n",
    "- Output:\n",
    "`    [7, 6, 8, 21] `\n",
    "\n",
    "\n",
    "- Input: \n",
    "` Solution.solution({{0, 1, 0, 0, 0, 1}, {4, 0, 0, 3, 2, 0}, {0, 0, 0, 0, 0, 0}, {0, 0, 0, 0, 0, 0}, {0, 0, 0, 0, 0, 0}, {0, 0, 0, 0, 0, 0}}) `\n",
    "\n",
    "- Output:\n",
    "` [0, 3, 2, 9, 14] `\n",
    "\n",
    "---\n",
    "\n",
    "-- Python cases --\n",
    "\n",
    "---\n",
    "\n",
    "- Input:\n",
    "` solution.solution([[0, 2, 1, 0, 0], [0, 0, 0, 3, 4], [0, 0, 0, 0, 0], [0, 0, 0, 0,0], [0, 0, 0, 0, 0]]) `\n",
    "\n",
    "- Output: \n",
    "`    [7, 6, 8, 21] `\n",
    "\n",
    "- Input:\n",
    "`\n",
    "solution.solution([[0, 1, 0, 0, 0, 1], [4, 0, 0, 3, 2, 0], [0, 0, 0, 0, 0, 0], [0, 0, 0, 0, 0, 0], [0, 0, 0, 0, 0, 0], [0, 0, 0, 0, 0, 0]]) `\n",
    "\n",
    "- Output:\n",
    "  `  [0, 3, 2, 9, 14] `\n"
   ]
  },
  {
   "cell_type": "markdown",
   "metadata": {
    "id": "sIn4FR5AxKDW"
   },
   "source": [
    "[\n",
    "  \n",
    "`  [0,1,0,0,0,1] `,  # s0, the initial state, goes to s1 and s5 with equal probability\n",
    "\n",
    " ` [4,0,0,3,2,0] `,  # s1 can become s0, s3, or s4, but with different \n",
    "  probabilities\n",
    "  \n",
    " ` [0,0,0,0,0,0]`,  # s2 is terminal, and unreachable (never observed in practice)\n",
    "\n",
    " ` [0,0,0,0,0,0]`,  # s3 is terminal\n",
    "\n",
    " ` [0,0,0,0,0,0]`,  # s4 is terminal\n",
    "\n",
    " ` [0,0,0,0,0,0]`,  # s5 is terminal\n",
    "\n",
    "]\n",
    "\n",
    "s2 has probability 0\n",
    "\n",
    "s3 has probability 3/14\n",
    "\n",
    "s4 has probability 1/7\n",
    "\n",
    "s5 has probability 9/14"
   ]
  },
  {
   "cell_type": "markdown",
   "metadata": {
    "id": "oEteSCyUgABw"
   },
   "source": [
    "Constraints \n",
    "\n",
    "---\n",
    "\n",
    "#### Python\n",
    "======\n",
    "\n",
    "Your code will run inside a Python 2.7.13 sandbox. All tests will be run by calling the solution() function.\n",
    "\n",
    "Standard libraries are supported except for bz2, crypt, fcntl, mmap, pwd, pyexpat, select, signal, termios, thread, time, unicodedata, zipimport, zlib.\n",
    "\n",
    "Input/output operations are not allowed.\n",
    "\n",
    "Your solution must be under 32000 characters in length including new lines and and other non-printing characters."
   ]
  },
  {
   "cell_type": "markdown",
   "metadata": {
    "id": "fl7Z8ezDJzkB"
   },
   "source": [
    "### The matrix for the below example:\n",
    "\n",
    "` m=[[1,2,2,0,0,3], `\n",
    "\n",
    "` [2,0,0,3,5,0], `\n",
    "\n",
    "` [0,0,2,0,7,0], `\n",
    "\n",
    "` [0,0,0,0,0,0], `\n",
    "\n",
    "` [0,0,0,0,0,0]] `"
   ]
  },
  {
   "cell_type": "code",
   "execution_count": 92,
   "metadata": {
    "colab": {
     "base_uri": "https://localhost:8080/"
    },
    "id": "GzE9A04HR9ze",
    "outputId": "dd6fc2c4-416a-417f-d4fb-7d8d890801ca"
   },
   "outputs": [
    {
     "name": "stdout",
     "output_type": "stream",
     "text": [
      "m [[0 1 0 1]\n",
      " [1 0 0 0]\n",
      " [0 0 0 0]\n",
      " [0 0 0 0]]\n",
      "roots: [[3, 0]], cycles: [(0, 1), (0, 0), (1, 1)]\n"
     ]
    }
   ],
   "source": [
    "# 1. Index the terminals of any given square matrix\n",
    "# 2. Find 'root paths'\n",
    "    # Which arrays contain the terminal state?\n",
    "# 3. Add generalized conditions\n",
    "# 4. Treat double (or alternative) cases/paths\n",
    "# 5. Treat 'cyclic' paths\n",
    "from fractions import Fraction\n",
    "from copy import deepcopy\n",
    "import numpy as np\n",
    "\n",
    "m=np.array([\n",
    "[2,1,3,3,0,1],\n",
    "[4,2,4,3,2,0],\n",
    "[3,1,3,1,1,0],\n",
    "[4,1,1,5,1,0],\n",
    "[0,0,0,0,0,0],\n",
    "[0,0,0,0,0,0]])\n",
    "\n",
    "\n",
    "m=[\n",
    "[0,1,0,1,0,0],\n",
    "[4,0,0,3,2,0],\n",
    "[3,1,3,1,1,0],\n",
    "[4,1,1,5,1,0],\n",
    "[0,0,0,0,0,0],\n",
    "[0,0,0,0,0,0]]\n",
    "m=[[0,1,0,0,0,1],\n",
    "   [4,0,0,3,2,0],\n",
    "   [0,0,0,0,0,0],\n",
    "   [0,0,0,0,0,0],\n",
    "   [0,0,0,0,0,0],\n",
    "   [0,0,0,0,0,0]]\n",
    "\n",
    "\n",
    "m=([[0, 2, 1, 0, 0], [0, 0, 0, 3, 4], [0, 0, 0, 0, 0], [0, 0, 0, 0,0], [0, 0, 0, 0, 0]])\n",
    "\n",
    "\n",
    "\n",
    "m= [\n",
    "            [1, 1, 0, 1],\n",
    "            [1, 1, 0, 0],\n",
    "            [0, 0, 0, 0],\n",
    "            [0, 0, 0, 0]\n",
    "        ]\n",
    "# m = [\n",
    "#             [0, 0, 0, 0],\n",
    "#             [1, 1, 1, 1],\n",
    "#             [1, 1, 1, 1],\n",
    "#             [1, 1, 1, 1]\n",
    "#         ]\n",
    "\n",
    "\n",
    "m=np.array(m)\n",
    "m0=deepcopy(m)\n",
    "\n",
    "\n",
    "diag=deepcopy(m).diagonal()\n",
    "np.fill_diagonal(m, 0)\n",
    "\n",
    "# Index terminals:\n",
    "term=np.where(np.sum(m, axis=1)==0)[0]\n",
    "# P=0 terminals:\n",
    "p0term=np.where(np.sum(m, axis=0)==0)[0]\n",
    "\n",
    "print(\"m\",m)\n",
    "\n",
    "nonterm=np.setdiff1d(list(range(len(m))),term)\n",
    "\n",
    "\n",
    "# Remove P=0 terminals from term list\n",
    "indp0=np.where(term==p0term)\n",
    "term=np.delete(term,indp0)    \n",
    "\n",
    "\n",
    "# prepare dict\n",
    "dm2=dict()\n",
    "for t in term:\n",
    "  #print(t,':\\t',np.count_nonzero(np.nonzero(m)[1] == t))\n",
    " # dm[t]=np.count_nonzero(np.nonzero(m)[1] == t)\n",
    "  for rowi in range(len(m)):\n",
    "    if m[rowi][t] >0:\n",
    "      dm2.setdefault(t, []).append(rowi)\n",
    "      #dm2[t].append(rowi)\n",
    "\n",
    "\n",
    "\n",
    "\n",
    "dtrm=dict()\n",
    "for trm in term:\n",
    "  trmd=np.nonzero(m[:,trm])[0]\n",
    "  if len(trmd)>1:\n",
    "    \n",
    "    dtrm[trm]=deepcopy(m)[:,trm]\n",
    "    m[:,trm]=0\n",
    "\n",
    "M=[]\n",
    "if len(dtrm)>0:\n",
    "  for k in dtrm.keys():\n",
    "    for i in range(len(dtrm[k])):\n",
    "      if dtrm[k][i]>0:\n",
    "        mc=deepcopy(m)\n",
    "\n",
    "        #print(\"mcki:\",mc[k,i])\n",
    "\n",
    "        val=deepcopy(dtrm[k][i])\n",
    "        mc[:,k][i]=val\n",
    "\n",
    "        M.append(mc)\n",
    "\n",
    "\n",
    "\n",
    "for k in dm2.keys():\n",
    "  if len(dm2[k])>1:\n",
    "    for v in dm2[k]:\n",
    "      mx=deepcopy(m)\n",
    "      #print(mx[v][k])\n",
    "      mx[v][k]=0\n",
    "\n",
    "      M.append(mx)\n",
    "if len(M)<2:\n",
    "  M=[m]\n",
    "\n",
    "\n",
    "\n",
    "def hasInd(m_,nonterm, state):\n",
    "  for i in nonterm:\n",
    "    \n",
    "    if state in np.nonzero(m_[i])[0]:\n",
    "      \n",
    "\n",
    "      return i\n",
    "  return -1\n",
    "\n",
    "\n",
    "\n",
    "lstx2=[]\n",
    "for m_ in M:\n",
    "\n",
    "  #print(m)\n",
    "  for t in term:\n",
    "    #for v in dm2[t]:\n",
    "      lstx=[]\n",
    "      while t>0:\n",
    "        lstx.append(t)\n",
    "        t=hasInd(m_,nonterm,t)\n",
    "        if t==0:\n",
    "          lstx.append(t)\n",
    "          break\n",
    "      lstx2.append(lstx)\n",
    "#print('lstx2:::::::::',len(lstx2))\n",
    "\n",
    "if len(lstx2)>1:\n",
    "    roots=np.unique(lstx2)\n",
    "    rootss=deepcopy(roots)\n",
    "    roots=[]\n",
    "\n",
    "    for root in rootss:\n",
    "      if 0 in root:\n",
    "        roots.append(root)\n",
    "\n",
    "else:\n",
    "    roots=lstx2\n",
    "\n",
    "sets=[]\n",
    "cycles=[]\n",
    "for i in range(m.shape[0]):\n",
    "  for j in range(m.shape[1]):\n",
    "\n",
    "#   print(i)\n",
    "   #if i != j:\n",
    "   if set((i,j)) not in sets:\n",
    "      sets.append(set((i,j))) \n",
    "\n",
    "      if m[i][j] != 0 and m[j][i] != 0:# and i!=j:\n",
    "#        print('CYCLE:')\n",
    "        cycles.append((i,j))\n",
    "\n",
    "for i in range(len(diag)):\n",
    "  if diag[i]>0:\n",
    "    cycles.append((i,i))\n",
    "\n",
    "np.fill_diagonal(m,diag)\n",
    "print('roots: {}, cycles: {}'.format(roots, cycles))\n",
    "\n"
   ]
  },
  {
   "cell_type": "code",
   "execution_count": 91,
   "metadata": {
    "colab": {
     "base_uri": "https://localhost:8080/"
    },
    "id": "2cwPosYLVNgd",
    "outputId": "13b9360f-6138-4eef-87d8-30177bf5bbfa"
   },
   "outputs": [
    {
     "ename": "IndexError",
     "evalue": "list index out of range",
     "output_type": "error",
     "traceback": [
      "\u001b[1;31m---------------------------------------------------------------------------\u001b[0m",
      "\u001b[1;31mIndexError\u001b[0m                                Traceback (most recent call last)",
      "\u001b[1;32m<ipython-input-91-b3748e143a4c>\u001b[0m in \u001b[0;36m<module>\u001b[1;34m\u001b[0m\n\u001b[0;32m     14\u001b[0m \u001b[1;31m# Get root probs\u001b[0m\u001b[1;33m\u001b[0m\u001b[1;33m\u001b[0m\u001b[0m\n\u001b[0;32m     15\u001b[0m \u001b[1;33m\u001b[0m\u001b[0m\n\u001b[1;32m---> 16\u001b[1;33m \u001b[0mroots\u001b[0m\u001b[1;33m[\u001b[0m\u001b[1;36m0\u001b[0m\u001b[1;33m]\u001b[0m\u001b[1;33m\u001b[0m\u001b[0m\n\u001b[0m\u001b[0;32m     17\u001b[0m \u001b[0mrootprobdict\u001b[0m\u001b[1;33m=\u001b[0m\u001b[0mdict\u001b[0m\u001b[1;33m(\u001b[0m\u001b[1;33m)\u001b[0m\u001b[1;33m\u001b[0m\u001b[0m\n\u001b[0;32m     18\u001b[0m \u001b[1;33m\u001b[0m\u001b[0m\n",
      "\u001b[1;31mIndexError\u001b[0m: list index out of range"
     ]
    }
   ],
   "source": [
    "# m=np.array([\n",
    "            \n",
    "# [0,1,0,1,0,1],\n",
    "# [4,0,0,3,2,0],\n",
    "# [3,1,0,1,1,0],\n",
    "# [4,1,1,0,1,4],\n",
    "# [0,0,0,0,0,0],\n",
    "# [0,0,0,0,0,0]\n",
    "\n",
    "# ])\n",
    "m=m0\n",
    "mprob=[m[i]/np.sum(m,axis=1)[i] for i in nonterm]\n",
    "\n",
    "# Get root probs\n",
    "\n",
    "roots[0]\n",
    "rootprobdict=dict()\n",
    "\n",
    "for root in roots:\n",
    "    rootprobdict[root[0]]=[]\n",
    "\n",
    "probs=[]\n",
    "for root in roots:\n",
    "  prob=[]\n",
    "  #print(\"Path: \")\n",
    "  for i in range(len(root)-1):\n",
    "    #print(\"[{},{}] \".format(root[i+1],root[i]) )\n",
    "    prob.append(mprob[root[i+1]][root[i]])\n",
    "    \n",
    "    #print(mprob[root[i+1]][root[i]])\n",
    "  print()\n",
    "  probs.append(prob)\n",
    "  rootprobdict[root[0]].append(prob)\n"
   ]
  },
  {
   "cell_type": "code",
   "execution_count": 73,
   "metadata": {
    "colab": {
     "base_uri": "https://localhost:8080/"
    },
    "id": "jhmV7E4blZQb",
    "outputId": "fd8d0d1f-caba-490b-8260-7fe28be36530"
   },
   "outputs": [
    {
     "name": "stdout",
     "output_type": "stream",
     "text": [
      "probs:  [[0.3333333333333333]]\n",
      "roots:  [[3, 0]]\n",
      "cycles:  [(0, 1), (0, 0), (1, 1)]\n"
     ]
    },
    {
     "data": {
      "text/plain": [
       "{3: [[0.3333333333333333]]}"
      ]
     },
     "execution_count": 73,
     "metadata": {},
     "output_type": "execute_result"
    }
   ],
   "source": [
    "print(\"probs: \",probs)\n",
    "print(\"roots: \",roots)\n",
    "print(\"cycles: \",cycles)\n",
    "\n",
    "rootprobdict\n",
    "#sumRepProb(mprob[0][0]*mprob[0][1])\n",
    "\n"
   ]
  },
  {
   "cell_type": "code",
   "execution_count": 74,
   "metadata": {},
   "outputs": [],
   "source": [
    "# add 'zero' cycles\n",
    "def addzerocycles(root,cycles):\n",
    "    for c in cycles:\n",
    "        if root[-2] in c and 0 in c:\n",
    "            return c\n",
    "    "
   ]
  },
  {
   "cell_type": "code",
   "execution_count": 75,
   "metadata": {
    "id": "tCuiC7WKc7rH"
   },
   "outputs": [],
   "source": [
    "def getCyclePath1(root, nonterm, cycles):\n",
    "  cs=[]\n",
    "  q=[]\n",
    "  for r in root:\n",
    "    if r in nonterm:# and r!=0:\n",
    "      for c in cycles:\n",
    "        if r in c:# and 0 not in c:\n",
    "          cs.append(c)\n",
    "          if r==c[0]:# and c[1]!=0:\n",
    "            q.append(c[1])\n",
    "          else:#if c[0]!=0:\n",
    "            q.append(c[0])\n",
    "\n",
    "  if 0 in q:\n",
    "    q.remove(0)\n",
    "  return q,cs\n"
   ]
  },
  {
   "cell_type": "code",
   "execution_count": 76,
   "metadata": {
    "id": "FgdLsENEdjji"
   },
   "outputs": [],
   "source": [
    "def getCyclePath2(q,cs,cycles,root):\n",
    "  \n",
    "  qpl=[]\n",
    "  while len(q)>0:\n",
    "    # print('lenq:',len(q))\n",
    "    qp=q.pop()\n",
    "    # print('qp:',qp)\n",
    "    for c in cycles:\n",
    "      \n",
    "      if qp in c:# and 0 not in c:\n",
    "        cs.append(c)\n",
    "        if qp==c[0]   and c[1] not in qpl: #and c[1]!=0:\n",
    "          q.append(c[1])\n",
    "        elif c[0] not in qpl:# and c[0]!=0  :\n",
    "          q.append(c[0])\n",
    "        qpl.append(qp)\n",
    "  cs=set(cs)\n",
    "#   c=addzerocycles(root,cycles)\n",
    "#   if c:\n",
    "#     cs.add(c)\n",
    "        \n",
    "  return cs"
   ]
  },
  {
   "cell_type": "code",
   "execution_count": 77,
   "metadata": {
    "colab": {
     "base_uri": "https://localhost:8080/"
    },
    "id": "5Oic-kwSdjlw",
    "outputId": "d573e10a-506f-4ccc-c4d8-a8aa6148785b"
   },
   "outputs": [
    {
     "data": {
      "text/plain": [
       "[(0, 1), (0, 0), (1, 1)]"
      ]
     },
     "execution_count": 77,
     "metadata": {},
     "output_type": "execute_result"
    }
   ],
   "source": [
    "cycles\n",
    "#roots\n"
   ]
  },
  {
   "cell_type": "code",
   "execution_count": 78,
   "metadata": {
    "colab": {
     "base_uri": "https://localhost:8080/"
    },
    "id": "q1HoCYfEc7tY",
    "outputId": "3c66054c-d641-448e-b87e-28f2ed1d9c7d"
   },
   "outputs": [],
   "source": [
    "# i=1\n",
    "\n",
    "# gcp1=getCyclePath1(roots[i], nonterm, cycles)\n",
    "# # print(gcp1)\n",
    "# # print(deepcopy(gcp1[0]))\n",
    "# cpath=getCyclePath2(gcp1[0],gcp1[1],cycles,roots[i])\n",
    "\n",
    "# cpath\n",
    "\n"
   ]
  },
  {
   "cell_type": "code",
   "execution_count": 79,
   "metadata": {
    "colab": {
     "base_uri": "https://localhost:8080/"
    },
    "id": "lmXUnR_Ec7v6",
    "outputId": "ab72fb69-429c-4637-da0c-960abee2007f"
   },
   "outputs": [],
   "source": [
    "# cpath\n",
    "# mprob[1][3]\n",
    "# mprob[3][1]\n",
    "\n",
    "# cps=[]\n",
    "# for cp in cpath:\n",
    "#     print(cp)\n",
    "#     if cp[0]!=cp[1]:\n",
    "#         cps.append(mprob[cp[0]][cp[1]]*mprob[cp[1]][cp[0]])\n",
    "#     elif cp[0]==cp[1]:\n",
    "#         cps.append(mprob[cp[0]][cp[1]])\n",
    "# cps"
   ]
  },
  {
   "cell_type": "markdown",
   "metadata": {},
   "source": [
    "# dict for roots"
   ]
  },
  {
   "cell_type": "code",
   "execution_count": 80,
   "metadata": {},
   "outputs": [
    {
     "data": {
      "text/plain": [
       "{3: [[3, 0]]}"
      ]
     },
     "execution_count": 80,
     "metadata": {},
     "output_type": "execute_result"
    }
   ],
   "source": [
    "# dict for roots\n",
    "rootdict=dict()\n",
    "for root in roots:\n",
    "    rootdict[root[0]]=[]\n",
    "for root in roots:\n",
    "    rootdict[root[0]].append(root)\n",
    "rootdict\n",
    "\n"
   ]
  },
  {
   "cell_type": "markdown",
   "metadata": {},
   "source": [
    "# dict for probs for roots\n"
   ]
  },
  {
   "cell_type": "code",
   "execution_count": 81,
   "metadata": {},
   "outputs": [
    {
     "data": {
      "text/plain": [
       "{3: [[0.3333333333333333]]}"
      ]
     },
     "execution_count": 81,
     "metadata": {},
     "output_type": "execute_result"
    }
   ],
   "source": [
    "# dict for probs for roots\n",
    "# see above\n",
    "rootprobdict\n",
    "    "
   ]
  },
  {
   "cell_type": "markdown",
   "metadata": {},
   "source": [
    "# dict for cycles per root\n"
   ]
  },
  {
   "cell_type": "code",
   "execution_count": 82,
   "metadata": {},
   "outputs": [],
   "source": [
    "# dict for cycles per root\n",
    "cycrootdict=dict()\n",
    "for root in roots:\n",
    "        cycrootdict[root[0]]=[]\n",
    "for root in roots:\n",
    "\n",
    "    gcp1=getCyclePath1(root, nonterm, cycles)\n",
    "    # print(gcp1)\n",
    "    # print(deepcopy(gcp1[0]))\n",
    "    cpath=getCyclePath2(gcp1[0],gcp1[1],cycles,root)\n",
    "    cycrootdict[root[0]].append(cpath)\n",
    "\n"
   ]
  },
  {
   "cell_type": "markdown",
   "metadata": {},
   "source": [
    "# dict for prob of cycles per root"
   ]
  },
  {
   "cell_type": "code",
   "execution_count": 83,
   "metadata": {},
   "outputs": [
    {
     "data": {
      "text/plain": [
       "{3: [[0.16666666666666666, 0.3333333333333333, 0.5]]}"
      ]
     },
     "execution_count": 83,
     "metadata": {},
     "output_type": "execute_result"
    }
   ],
   "source": [
    "# dict for prob of cycles per root\n",
    "# ### As above #####################\n",
    "# cps=[]\n",
    "# for cp in cpath:\n",
    "    \n",
    "#     if cp[0]!=cp[1]:\n",
    "#         cps.append(mprob[cp[0]][cp[1]]*mprob[cp[1]][cp[0]])\n",
    "#     elif cp[0]==cp[1]:\n",
    "#         cps.append(mprob[cp[0]][cp[1]])\n",
    "# ##################################\n",
    "\n",
    "\n",
    "\n",
    "### Not as above #################\n",
    "\n",
    "def getcycprob(cpath,mprob):\n",
    "    cps=[]\n",
    "    \n",
    "    for cp in cpath:\n",
    "        #print(cp)\n",
    "        if cp[0]!=cp[1]:\n",
    "            cps.append( mprob[cp[0]][cp[1]]*mprob[cp[1]][cp[0]])\n",
    "        elif cp[0]==cp[1]:\n",
    "            cps.append( mprob[cp[0]][cp[1]])\n",
    "    return cps\n",
    "##################################\n",
    "\n",
    "\n",
    "cycrootprobdict=dict()\n",
    "for root in roots:\n",
    "    cycrootprobdict[root[0]]=[]\n",
    "for k in cycrootdict.keys():\n",
    "    for v in cycrootdict[k]:\n",
    "        \n",
    "        cycrootprobdict[k].append(getcycprob(v,mprob))\n",
    "                                \n",
    "                                \n",
    "        \n",
    "\n",
    "cycrootprobdict"
   ]
  },
  {
   "cell_type": "code",
   "execution_count": 84,
   "metadata": {},
   "outputs": [
    {
     "name": "stdout",
     "output_type": "stream",
     "text": [
      "dict for roots:\n",
      " {3: [[3, 0]]}\n",
      "dict for probs for roots:\n",
      " {3: [[0.3333333333333333]]}\n",
      "\n",
      "dict for cycles per root:\n",
      " {3: [{(0, 1), (0, 0), (1, 1)}]}\n",
      "\n",
      "dict for prob of cycles per root:\n",
      " {3: [[0.16666666666666666, 0.3333333333333333, 0.5]]}\n"
     ]
    }
   ],
   "source": [
    "print(\"dict for roots:\\n\",rootdict)\n",
    "print(\"dict for probs for roots:\\n\",rootprobdict)\n",
    "print()\n",
    "print(\"dict for cycles per root:\\n\",cycrootdict)\n",
    "print()\n",
    "print(\"dict for prob of cycles per root:\\n\",cycrootprobdict)\n"
   ]
  },
  {
   "cell_type": "code",
   "execution_count": 85,
   "metadata": {},
   "outputs": [
    {
     "data": {
      "text/plain": [
       "{3: [1.1999999999999997]}"
      ]
     },
     "execution_count": 85,
     "metadata": {},
     "output_type": "execute_result"
    }
   ],
   "source": [
    "def sumRepProb(A):\n",
    "  return (A**(1e5+1)-1)/(A-1)\n",
    "def getFractions(rootprobdict,cycrootprobdict,roots):\n",
    "\n",
    "    prod3=0\n",
    "    # dictionary for final fractions\n",
    "    fracdict=dict()\n",
    "    for root in roots:\n",
    "        fracdict[root[0]]=[]\n",
    "     \n",
    "    \n",
    "    \n",
    "    for k in rootprobdict:\n",
    "        for lst in rootprobdict[k]:\n",
    "            prod2=[]\n",
    "            prod1=np.prod(lst)\n",
    "            for v in cycrootprobdict[k]:\n",
    "                if len(v)>0:\n",
    "                    #print(\"v\",v)\n",
    "                    prod2.append([sumRepProb(e) for e in v])\n",
    "            #print(\"pr2\",prod2)\n",
    "            prod3=np.prod(prod2)\n",
    "            fracdict[k].append(prod1*prod3)\n",
    "    return fracdict  \n",
    "    \n",
    "    \n",
    "    \n",
    "    \n",
    "    \n",
    "fracdict=getFractions(rootprobdict,cycrootprobdict,roots)    \n",
    "fracdict"
   ]
  },
  {
   "cell_type": "markdown",
   "metadata": {},
   "source": [
    "# add up (sum) similar terminals"
   ]
  },
  {
   "cell_type": "code",
   "execution_count": 86,
   "metadata": {},
   "outputs": [
    {
     "data": {
      "text/plain": [
       "{3: Fraction(6, 5)}"
      ]
     },
     "execution_count": 86,
     "metadata": {},
     "output_type": "execute_result"
    }
   ],
   "source": [
    "# add similar terminals\n",
    "\n",
    "for k in fracdict:\n",
    "    fracdict[k]=np.sum(fracdict[k])\n",
    "fracdict\n",
    "for k in fracdict:\n",
    "    z=fracdict[k]\n",
    "    fracdict[k]=Fraction(*z.as_integer_ratio()).limit_denominator()\n",
    "fracdict"
   ]
  },
  {
   "cell_type": "markdown",
   "metadata": {},
   "source": [
    "---"
   ]
  },
  {
   "cell_type": "markdown",
   "metadata": {},
   "source": [
    "# get lowest common denominator"
   ]
  },
  {
   "cell_type": "code",
   "execution_count": 87,
   "metadata": {},
   "outputs": [
    {
     "name": "stdout",
     "output_type": "stream",
     "text": [
      "{3: 5}\n",
      "{3: 6}\n"
     ]
    },
    {
     "data": {
      "text/plain": [
       "array([3], dtype=int64)"
      ]
     },
     "execution_count": 87,
     "metadata": {},
     "output_type": "execute_result"
    }
   ],
   "source": [
    "# get lowest common denominator\n",
    "def returnInt(fraction):\n",
    "    return (int(str(fraction).split('/')[0]),int(str(fraction).split('/')[1]))\n",
    "\n",
    "intfracdict=dict()\n",
    "for k in fracdict.keys():\n",
    "    #print(returnInt(fracdict[k]))\n",
    "    intfracdict[k]=returnInt(fracdict[k])\n",
    "\n",
    "\n",
    "intfracdict\n",
    "\n",
    "denominators=dict()\n",
    "nominators=dict()\n",
    "for k in intfracdict.keys():\n",
    "    denominators[k]=intfracdict[k][1]\n",
    "    nominators[k]=intfracdict[k][0]\n",
    "#     if type(intfracdict[k]) is 'tuple':\n",
    "#         print(\"type:\")\n",
    "  \n",
    "# get 'orphan' states\n",
    "orphanterm=[]\n",
    "for c in range(m0.shape[1]):\n",
    "    if sum(m0[:,c])==0 and sum(m0[c,:])==0:\n",
    "        orphanterm.append(c)\n",
    "term2=list(set(list(term)+ orphanterm    ))\n",
    "#term=term+orphanterm\n",
    "for t in term2:\n",
    "    #print(t)\n",
    "    if t not in intfracdict.keys():\n",
    "        intfracdict[t]=0\n",
    "print(denominators)\n",
    "print(nominators)\n",
    "term2\n",
    "intfracdict\n",
    "term"
   ]
  },
  {
   "cell_type": "code",
   "execution_count": 88,
   "metadata": {},
   "outputs": [
    {
     "name": "stdout",
     "output_type": "stream",
     "text": [
      "[5]\n",
      "5\n"
     ]
    },
    {
     "data": {
      "text/plain": [
       "888892570765"
      ]
     },
     "execution_count": 88,
     "metadata": {},
     "output_type": "execute_result"
    }
   ],
   "source": [
    "import math\n",
    "\n",
    "def lcm(a, b):\n",
    "    return abs(a*b) // math.gcd(a, b)\n",
    "\n",
    "nominatorsL=list(nominators.values())\n",
    "denominatorsL=list(denominators.values())\n",
    "\n",
    "def getLcm(denominators):\n",
    " \n",
    "    lcm = denominators[0]\n",
    "    for i in denominators[1:]:\n",
    "      lcm = lcm*i//math.gcd(lcm, i)\n",
    "    return(lcm)\n",
    "\n",
    "# 3/14; 1/7; 9/14\n",
    "#l=denominators#[14,7,14]\n",
    "# for n in range(len(l)-1):\n",
    "#   print(lcm(l[n-1],l[n]))\n",
    "c=getLcm(denominatorsL)\n",
    "print(denominatorsL)\n",
    "print(c)\n",
    "nommul=[]\n",
    "for i in range(len(denominatorsL)):\n",
    "    \n",
    "    nominatorsL[i]*=(int(c/denominatorsL[i]))\n",
    "    #nominators[term2[i]]=nominatorsL[i]\n",
    "\n",
    "nk=list(nominators.keys())\n",
    "nominatorsdict2=dict()\n",
    "for i in range(len(nk)):\n",
    "    nominatorsdict2[nk[i]]=nominatorsL[i]\n",
    "    \n",
    "nominatorsdict2 \n",
    "\n",
    "(947581*938065)/165659507\n",
    "\n",
    "getLcm([938065, 947581])"
   ]
  },
  {
   "cell_type": "code",
   "execution_count": 1,
   "metadata": {},
   "outputs": [
    {
     "ename": "NameError",
     "evalue": "name 'getLcm' is not defined",
     "output_type": "error",
     "traceback": [
      "\u001b[1;31m---------------------------------------------------------------------------\u001b[0m",
      "\u001b[1;31mNameError\u001b[0m                                 Traceback (most recent call last)",
      "\u001b[1;32m<ipython-input-1-ffafd1b7f0ae>\u001b[0m in \u001b[0;36m<module>\u001b[1;34m\u001b[0m\n\u001b[1;32m----> 1\u001b[1;33m \u001b[0mLCM\u001b[0m\u001b[1;33m=\u001b[0m\u001b[0mgetLcm\u001b[0m\u001b[1;33m(\u001b[0m\u001b[0mlist\u001b[0m\u001b[1;33m(\u001b[0m\u001b[0mdenominators\u001b[0m\u001b[1;33m.\u001b[0m\u001b[0mvalues\u001b[0m\u001b[1;33m(\u001b[0m\u001b[1;33m)\u001b[0m\u001b[1;33m)\u001b[0m\u001b[1;33m)\u001b[0m\u001b[1;33m\u001b[0m\u001b[0m\n\u001b[0m\u001b[0;32m      2\u001b[0m \u001b[1;33m\u001b[0m\u001b[0m\n\u001b[0;32m      3\u001b[0m \u001b[1;33m\u001b[0m\u001b[0m\n\u001b[0;32m      4\u001b[0m \u001b[0mresult\u001b[0m\u001b[1;33m=\u001b[0m\u001b[1;33m[\u001b[0m\u001b[1;33m]\u001b[0m\u001b[1;33m\u001b[0m\u001b[0m\n\u001b[0;32m      5\u001b[0m \u001b[1;32mfor\u001b[0m \u001b[0mt\u001b[0m \u001b[1;32min\u001b[0m \u001b[0mterm2\u001b[0m\u001b[1;33m:\u001b[0m\u001b[1;33m\u001b[0m\u001b[0m\n",
      "\u001b[1;31mNameError\u001b[0m: name 'getLcm' is not defined"
     ]
    }
   ],
   "source": [
    "\n",
    "LCM=getLcm(list(denominators.values()))\n",
    "\n",
    "\n",
    "result=[]\n",
    "for t in term2:\n",
    "    if t in nominatorsdict2.keys():\n",
    "        result.append(nominatorsdict2[t])\n",
    "    else:\n",
    "        result.append(0)\n",
    "        \n",
    "result.append(LCM)\n",
    "result"
   ]
  },
  {
   "cell_type": "code",
   "execution_count": 54,
   "metadata": {},
   "outputs": [],
   "source": [
    "\n",
    "def sumRepProb(A):\n",
    "  return (A**(50+1)-1)/(A-1)\n",
    "# #S0 --> S2 --> S4\n",
    "\n",
    "# z=sumRepProb(mp[0][0])*sumRepProb(mp[1][0]*mp[0][1])*mp[0][2]*sumRepProb(mp[2][2])*mp[2][4]\n",
    "# z=sumRepProb(mp[0][0])*sumRepProb(mp[1][0]*mp[0][1])*mp[0][1]*mp[1][3]\n",
    "\n",
    "# Fraction(*z.as_integer_ratio()).limit_denominator()\n"
   ]
  },
  {
   "cell_type": "code",
   "execution_count": 55,
   "metadata": {},
   "outputs": [
    {
     "data": {
      "text/plain": [
       "Fraction(2, 7)"
      ]
     },
     "execution_count": 55,
     "metadata": {},
     "output_type": "execute_result"
    }
   ],
   "source": [
    "# test\n",
    "\n",
    "def sumRepProb(A):\n",
    "  return (A**(50+1)-1)/(A-1)\n",
    "\n",
    "z=sumRepProb(0.2222222222222222)*0.5\n",
    "#z=0.5714285714285714*0.6666666666666666\n",
    "z=0.2857142857142857\n",
    "Fraction(*z.as_integer_ratio()).limit_denominator()\n"
   ]
  },
  {
   "cell_type": "code",
   "execution_count": 56,
   "metadata": {},
   "outputs": [],
   "source": [
    "orphanterm=[]\n",
    "for c in range(m0.shape[1]):\n",
    "    if sum(m0[:,c])==0 and c not in nonterm:\n",
    "        orphanterm.append(c)"
   ]
  },
  {
   "cell_type": "code",
   "execution_count": 57,
   "metadata": {},
   "outputs": [
    {
     "data": {
      "text/plain": [
       "[]"
      ]
     },
     "execution_count": 57,
     "metadata": {},
     "output_type": "execute_result"
    }
   ],
   "source": [
    "orphanterm"
   ]
  },
  {
   "cell_type": "code",
   "execution_count": 24,
   "metadata": {},
   "outputs": [],
   "source": [
    "def getLcm(denominators):\n",
    " \n",
    "    lcm = denominators[0]\n",
    "    for i in denominators[1:]:\n",
    "      lcm = lcm*i//math.gcd(lcm, i)\n",
    "    return(lcm)"
   ]
  },
  {
   "cell_type": "code",
   "execution_count": 25,
   "metadata": {},
   "outputs": [
    {
     "data": {
      "text/plain": [
       "{4: [1, 2, 3]}"
      ]
     },
     "execution_count": 25,
     "metadata": {},
     "output_type": "execute_result"
    }
   ],
   "source": [
    "dm2"
   ]
  },
  {
   "cell_type": "code",
   "execution_count": 34,
   "metadata": {},
   "outputs": [
    {
     "data": {
      "text/plain": [
       "[4, 5]"
      ]
     },
     "execution_count": 34,
     "metadata": {},
     "output_type": "execute_result"
    }
   ],
   "source": [
    "list(set(list(term)+ list(p0term)    ))"
   ]
  },
  {
   "cell_type": "code",
   "execution_count": 58,
   "metadata": {},
   "outputs": [
    {
     "data": {
      "text/plain": [
       "[2, 3, 4]"
      ]
     },
     "execution_count": 58,
     "metadata": {},
     "output_type": "execute_result"
    }
   ],
   "source": [
    "term2"
   ]
  }
 ],
 "metadata": {
  "colab": {
   "collapsed_sections": [],
   "name": "Doomsday Fuel.ipynb",
   "provenance": []
  },
  "kernelspec": {
   "display_name": "Python 3",
   "language": "python",
   "name": "python3"
  },
  "language_info": {
   "codemirror_mode": {
    "name": "ipython",
    "version": 3
   },
   "file_extension": ".py",
   "mimetype": "text/x-python",
   "name": "python",
   "nbconvert_exporter": "python",
   "pygments_lexer": "ipython3",
   "version": "3.7.0"
  }
 },
 "nbformat": 4,
 "nbformat_minor": 1
}
