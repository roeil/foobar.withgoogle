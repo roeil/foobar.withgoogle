{
 "cells": [
  {
   "cell_type": "code",
   "execution_count": null,
   "metadata": {},
   "outputs": [],
   "source": [
    "def des(N):\n",
    "  l=[]\n",
    "  #N=30\n",
    "  i=1\n",
    "  cn=N-i\n",
    "  while N-i>i:\n",
    "    \n",
    "  #for i in xrange(1,N):\n",
    "\n",
    "    #print N-i,' ,',i\n",
    "    l.append((N-i,i))\n",
    "    i+=1\n",
    "  return l\n",
    "\n",
    "\n",
    "N=55\n",
    "res=dict()\n",
    "for N in range(200):\n",
    "    zzz=des(N)\n",
    "    zz=zzz\n",
    "    #zzz=[]\n",
    "    kkk=[]\n",
    "    kkk=0\n",
    "    kkk2=0\n",
    "    a=len(zzz)\n",
    "    while a>0:\n",
    "      kkk+=a#len(zzz)\n",
    "      kkk2+=1\n",
    "      zz=zzz\n",
    "      zzz=[]\n",
    "\n",
    "      for l in zz:\n",
    "        s=sum(((l[1:][0]+1),)+l[1:])\n",
    "\n",
    "        d=l[1:]\n",
    "        n=((l[1:][0]+1),)+l[1:]\n",
    "        #n=(N-(sum(((l[1:][0]+1),)+l[1:])),)+ ((l[1:][0]+1),)+l[1:]\n",
    "\n",
    "        x=n[0]\n",
    "      #  print l,' ',N-s,' ',s,'  ',n,x,max(n)#,((l[1:][0]+1),)+l[1:]\n",
    "\n",
    "        r=(N-(x+sum(n[1:])),x,)+n[1:]\n",
    "        n=r[1:]\n",
    "\n",
    "        while N-sum(n)>max(n):\n",
    "          zzz.append(r)\n",
    "          x+=1\n",
    "          r=(N-(x+sum(n[1:])),x,)+n[1:]\n",
    "          n=r[1:]\n",
    "\n",
    "\n",
    "        a=len(zzz)\n",
    "    \n",
    "    res[N]=(N,kkk,kkk2,len(zzz))  "
   ]
  },
  {
   "cell_type": "code",
   "execution_count": null,
   "metadata": {},
   "outputs": [],
   "source": [
    "res"
   ]
  }
 ],
 "metadata": {
  "kernelspec": {
   "display_name": "Python 3",
   "language": "python",
   "name": "python3"
  }
 },
 "nbformat": 4,
 "nbformat_minor": 4
}
