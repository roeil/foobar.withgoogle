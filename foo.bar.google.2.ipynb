{
 "cells": [
  {
   "cell_type": "code",
   "execution_count": 126,
   "metadata": {
    "collapsed": false
   },
   "outputs": [
    {
     "name": "stdout",
     "output_type": "stream",
     "text": [
      "['1', '11']\n",
      "['2', '0', '0']\n",
      "['1', '1', '1']\n",
      "['2', '0']\n",
      "['0', '1']\n",
      "['2']\n",
      "['1', '2', '1']\n",
      "['1', '2']\n"
     ]
    }
   ],
   "source": [
    "\n",
    "import copy \n",
    "\n",
    "a1=[];a2=[];a3=[]\n",
    "l={'0.1', '2.0','1.1.1', '1.11', '1.2', '1.2.1', '2', '2.0.0'}\n",
    "l={\"1.11\", \"2.0.0\", \"1.2\", \"2\", \"0.1\", \"1.2.1\", \"1.1.1\", \"2.0\"}\n",
    "#l={\"1.1.2\", \"1.0\", \"1.3.3\", \"1.0.12\", \"1.0.2\"}\n",
    "l=list(l)\n",
    "for version in l:\n",
    "    ver=version.split(\".\")\n",
    "    a1.append(ver[0])\n",
    "    print(ver)\n",
    "\n",
    "    if len(ver)>1:\n",
    "        a2.append(ver[1])\n",
    "    else:\n",
    "        a2.append(-1)\n",
    "    if len(ver)>2:\n",
    "        a3.append(ver[2])\n",
    "    else:\n",
    "        a3.append(-1)"
   ]
  },
  {
   "cell_type": "code",
   "execution_count": 127,
   "metadata": {
    "collapsed": false
   },
   "outputs": [
    {
     "data": {
      "text/plain": [
       "['1.11', '2.0.0', '1.1.1', '2.0', '0.1', '2', '1.2.1', '1.2']"
      ]
     },
     "execution_count": 127,
     "metadata": {},
     "output_type": "execute_result"
    }
   ],
   "source": [
    "\n",
    "a1\n",
    "list(l)"
   ]
  },
  {
   "cell_type": "code",
   "execution_count": 128,
   "metadata": {
    "collapsed": false
   },
   "outputs": [
    {
     "data": {
      "text/plain": [
       "['11', '0', '1', '0', '1', -1, '2', '2']"
      ]
     },
     "execution_count": 128,
     "metadata": {},
     "output_type": "execute_result"
    }
   ],
   "source": [
    "a2"
   ]
  },
  {
   "cell_type": "code",
   "execution_count": 129,
   "metadata": {
    "collapsed": false
   },
   "outputs": [
    {
     "data": {
      "text/plain": [
       "[-1, '0', '1', -1, -1, -1, '1', -1]"
      ]
     },
     "execution_count": 129,
     "metadata": {},
     "output_type": "execute_result"
    }
   ],
   "source": [
    "a3"
   ]
  },
  {
   "cell_type": "code",
   "execution_count": 130,
   "metadata": {
    "collapsed": false
   },
   "outputs": [],
   "source": [
    "#z=[]\n",
    "#append to a dictionary the parsed values \n",
    "dic=dict()\n",
    "for i in range(len(l)):\n",
    "    dic.update({i:([int(a1[i]),int(a2[i]),int(a3[i])])})"
   ]
  },
  {
   "cell_type": "code",
   "execution_count": 131,
   "metadata": {
    "collapsed": false
   },
   "outputs": [],
   "source": [
    "# z.sort()\n",
    "# print(z)\n",
    "# print(l)\n",
    "# print(dic)\n",
    "#for python 3.6+:\n",
    "#{k: v for k, v in sorted(dic.items(), key=lambda item: item[0])}\n",
    "#older vesions:\n",
    "import operator\n",
    "# sorted_dic_byKey = sorted(dic.items(), key=operator.itemgetter(0))\n",
    "sorted_dic_byVal = sorted(dic.items(), key=operator.itemgetter(1))\n",
    "# print(sorted_dic_byVal)\n",
    "# l2=[]\n",
    "# for item in sorted_dic_byVal:\n",
    "#     print(dic[item[0]])\n",
    "#print(sorted_dic_byKey)"
   ]
  },
  {
   "cell_type": "code",
   "execution_count": 132,
   "metadata": {
    "collapsed": false
   },
   "outputs": [
    {
     "data": {
      "text/plain": [
       "['0.1', '1.1.1', '1.2', '1.2.1', '1.11', '2', '2.0', '2.0.0']"
      ]
     },
     "execution_count": 132,
     "metadata": {},
     "output_type": "execute_result"
    }
   ],
   "source": [
    "lOut=[]\n",
    "for item in sorted_dic_byVal:\n",
    "    lOut.append(l[item[0]])\n",
    "lOut"
   ]
  },
  {
   "cell_type": "code",
   "execution_count": 145,
   "metadata": {
    "collapsed": true
   },
   "outputs": [],
   "source": [
    "def solution(l):\n",
    "    \n",
    "    import copy \n",
    "    import operator\n",
    "\n",
    "    \n",
    "    a1=[];a2=[];a3=[]\n",
    "    #l={'0.1', '2.0','1.1.1', '1.11', '1.2', '1.2.1', '2', '2.0.0'}\n",
    "    #l={\"1.1.2\", \"1.0\", \"1.3.3\", \"1.0.12\", \"1.0.2\"}\n",
    "    l=list(l)\n",
    "    #print(type(l))\n",
    "\n",
    "    for version in l:\n",
    "        ver=version.split(\".\")\n",
    "        a1.append(ver[0])\n",
    "#        print(\"version:\",version)\n",
    "#        print(\"ver:\",ver)\n",
    "    \n",
    "        if len(ver)>1:\n",
    "            a2.append(ver[1])\n",
    "        else:\n",
    "            a2.append(-1)\n",
    "        if len(ver)>2:\n",
    "            a3.append(ver[2])\n",
    "        else:\n",
    "            a3.append(-1)\n",
    "#        print(\"a1:\",a1)\n",
    "#        print(\"a2:\",a2)\n",
    "        \n",
    "        # Your code here\n",
    "        #append to a dictionary the parsed values \n",
    "        dic=dict()\n",
    "    for i in range(len(l)):\n",
    "        dic.update({i:([int(a1[i]),int(a2[i]),int(a3[i])])})\n",
    "    sorted_dic_byVal = sorted(dic.items(), key=operator.itemgetter(1))\n",
    "    lOut=[]\n",
    "    for item in sorted_dic_byVal:\n",
    "        lOut.append(l[item[0]])\n",
    "        \n",
    "    return(lOut)"
   ]
  },
  {
   "cell_type": "code",
   "execution_count": 146,
   "metadata": {
    "collapsed": false
   },
   "outputs": [
    {
     "name": "stdout",
     "output_type": "stream",
     "text": [
      "<class 'list'>\n"
     ]
    },
    {
     "data": {
      "text/plain": [
       "['0.1', '1.1.1', '1.2', '1.2.1', '1.11', '2', '2.0', '2.0.0']"
      ]
     },
     "execution_count": 146,
     "metadata": {},
     "output_type": "execute_result"
    }
   ],
   "source": [
    "solution({\"1.11\", \"2.0.0\", \"1.2\", \"2\", \"0.1\", \"1.2.1\", \"1.1.1\", \"2.0\"})"
   ]
  }
 ],
 "metadata": {
  "anaconda-cloud": {},
  "kernelspec": {
   "display_name": "Python [default]",
   "language": "python",
   "name": "python3"
  },
  "language_info": {
   "codemirror_mode": {
    "name": "ipython",
    "version": 3
   },
   "file_extension": ".py",
   "mimetype": "text/x-python",
   "name": "python",
   "nbconvert_exporter": "python",
   "pygments_lexer": "ipython3",
   "version": "3.5.5"
  }
 },
 "nbformat": 4,
 "nbformat_minor": 1
}
